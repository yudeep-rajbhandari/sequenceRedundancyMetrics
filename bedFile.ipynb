{
 "cells": [
  {
   "cell_type": "code",
   "execution_count": 1,
   "id": "e639b04f",
   "metadata": {
    "pycharm": {
     "name": "#%%\n"
    }
   },
   "outputs": [],
   "source": [
    "from Bio import SeqIO\n",
    "import pandas as pd\n",
    "from os.path import exists\n",
    "\n",
    "\n"
   ]
  },
  {
   "cell_type": "code",
   "execution_count": 2,
   "id": "49595175",
   "metadata": {
    "pycharm": {
     "name": "#%%\n"
    },
    "scrolled": false
   },
   "outputs": [],
   "source": [
    "# file_exist = exists('out.csv')\n",
    "\n",
    "# print(file_exists)\n",
    "# file_exists = not file_exist\n",
    "# if(file_exists):\n",
    "#     ddf = pd.read_csv('out.csv') \n"
   ]
  },
  {
   "cell_type": "code",
   "execution_count": 3,
   "id": "746f4c6f",
   "metadata": {
    "pycharm": {
     "name": "#%%\n"
    }
   },
   "outputs": [],
   "source": [
    "\n",
    "record = SeqIO.parse(\"test.fa.out\", \"fasta\")\n",
    "record_dict = SeqIO.to_dict(SeqIO.parse('test.fa.out', 'fasta'))\n",
    "records = list(record)"
   ]
  },
  {
   "cell_type": "code",
   "execution_count": 4,
   "id": "df1867eb",
   "metadata": {
    "pycharm": {
     "name": "#%%\n"
    },
    "scrolled": false
   },
   "outputs": [],
   "source": [
    "# for r in range(0,50):\n",
    "# #     print(r)\n",
    "#     print(records[r].id)\n",
    "#     print(records[r].seq)"
   ]
  },
  {
   "cell_type": "code",
   "execution_count": 5,
   "id": "b0491c95",
   "metadata": {
    "pycharm": {
     "name": "#%%\n"
    }
   },
   "outputs": [],
   "source": [
    "\n",
    "df_liver = pd.read_csv('liver_enh_to_gene_peakachuloop-linked.tsv', sep='\\t')"
   ]
  },
  {
   "cell_type": "code",
   "execution_count": 6,
   "id": "b8aa882a",
   "metadata": {
    "pycharm": {
     "name": "#%%\n"
    }
   },
   "outputs": [
    {
     "data": {
      "text/html": [
       "<div>\n",
       "<style scoped>\n",
       "    .dataframe tbody tr th:only-of-type {\n",
       "        vertical-align: middle;\n",
       "    }\n",
       "\n",
       "    .dataframe tbody tr th {\n",
       "        vertical-align: top;\n",
       "    }\n",
       "\n",
       "    .dataframe thead th {\n",
       "        text-align: right;\n",
       "    }\n",
       "</style>\n",
       "<table border=\"1\" class=\"dataframe\">\n",
       "  <thead>\n",
       "    <tr style=\"text-align: right;\">\n",
       "      <th></th>\n",
       "      <th>enh_chrom</th>\n",
       "      <th>enh_start</th>\n",
       "      <th>enh_end</th>\n",
       "      <th>target_gene</th>\n",
       "      <th>gtex_tpm</th>\n",
       "      <th>hk</th>\n",
       "      <th>lof_intol</th>\n",
       "      <th>essential</th>\n",
       "      <th>rel_entropy</th>\n",
       "      <th>enh_rel_entropy</th>\n",
       "      <th>enh_length</th>\n",
       "      <th>phastcons_overlap</th>\n",
       "      <th>tss</th>\n",
       "      <th>tisspec_enh</th>\n",
       "      <th>tissue</th>\n",
       "    </tr>\n",
       "  </thead>\n",
       "  <tbody>\n",
       "    <tr>\n",
       "      <th>0</th>\n",
       "      <td>chr1</td>\n",
       "      <td>7842150</td>\n",
       "      <td>7842574</td>\n",
       "      <td>ENSG00000049245</td>\n",
       "      <td>14.6</td>\n",
       "      <td>1.0</td>\n",
       "      <td>0.0</td>\n",
       "      <td>0.0</td>\n",
       "      <td>0.014368</td>\n",
       "      <td>0.188492</td>\n",
       "      <td>424</td>\n",
       "      <td>0</td>\n",
       "      <td>3.0</td>\n",
       "      <td>0</td>\n",
       "      <td>liver</td>\n",
       "    </tr>\n",
       "    <tr>\n",
       "      <th>1</th>\n",
       "      <td>chr1</td>\n",
       "      <td>7850049</td>\n",
       "      <td>7850662</td>\n",
       "      <td>ENSG00000049245</td>\n",
       "      <td>14.6</td>\n",
       "      <td>1.0</td>\n",
       "      <td>0.0</td>\n",
       "      <td>0.0</td>\n",
       "      <td>0.014368</td>\n",
       "      <td>1.000000</td>\n",
       "      <td>613</td>\n",
       "      <td>0</td>\n",
       "      <td>3.0</td>\n",
       "      <td>1</td>\n",
       "      <td>liver</td>\n",
       "    </tr>\n",
       "    <tr>\n",
       "      <th>2</th>\n",
       "      <td>chr1</td>\n",
       "      <td>7865418</td>\n",
       "      <td>7865697</td>\n",
       "      <td>ENSG00000049245</td>\n",
       "      <td>14.6</td>\n",
       "      <td>1.0</td>\n",
       "      <td>0.0</td>\n",
       "      <td>0.0</td>\n",
       "      <td>0.014368</td>\n",
       "      <td>1.000000</td>\n",
       "      <td>279</td>\n",
       "      <td>0</td>\n",
       "      <td>3.0</td>\n",
       "      <td>1</td>\n",
       "      <td>liver</td>\n",
       "    </tr>\n",
       "    <tr>\n",
       "      <th>3</th>\n",
       "      <td>chr1</td>\n",
       "      <td>7842150</td>\n",
       "      <td>7842574</td>\n",
       "      <td>ENSG00000049246</td>\n",
       "      <td>6.2</td>\n",
       "      <td>0.0</td>\n",
       "      <td>0.0</td>\n",
       "      <td>0.0</td>\n",
       "      <td>0.032564</td>\n",
       "      <td>0.188492</td>\n",
       "      <td>424</td>\n",
       "      <td>0</td>\n",
       "      <td>3.0</td>\n",
       "      <td>0</td>\n",
       "      <td>liver</td>\n",
       "    </tr>\n",
       "    <tr>\n",
       "      <th>4</th>\n",
       "      <td>chr1</td>\n",
       "      <td>7850049</td>\n",
       "      <td>7850662</td>\n",
       "      <td>ENSG00000049246</td>\n",
       "      <td>6.2</td>\n",
       "      <td>0.0</td>\n",
       "      <td>0.0</td>\n",
       "      <td>0.0</td>\n",
       "      <td>0.032564</td>\n",
       "      <td>1.000000</td>\n",
       "      <td>613</td>\n",
       "      <td>0</td>\n",
       "      <td>3.0</td>\n",
       "      <td>1</td>\n",
       "      <td>liver</td>\n",
       "    </tr>\n",
       "  </tbody>\n",
       "</table>\n",
       "</div>"
      ],
      "text/plain": [
       "  enh_chrom  enh_start  enh_end      target_gene  gtex_tpm   hk  lof_intol  \\\n",
       "0      chr1    7842150  7842574  ENSG00000049245      14.6  1.0        0.0   \n",
       "1      chr1    7850049  7850662  ENSG00000049245      14.6  1.0        0.0   \n",
       "2      chr1    7865418  7865697  ENSG00000049245      14.6  1.0        0.0   \n",
       "3      chr1    7842150  7842574  ENSG00000049246       6.2  0.0        0.0   \n",
       "4      chr1    7850049  7850662  ENSG00000049246       6.2  0.0        0.0   \n",
       "\n",
       "   essential  rel_entropy  enh_rel_entropy  enh_length  phastcons_overlap  \\\n",
       "0        0.0     0.014368         0.188492         424                  0   \n",
       "1        0.0     0.014368         1.000000         613                  0   \n",
       "2        0.0     0.014368         1.000000         279                  0   \n",
       "3        0.0     0.032564         0.188492         424                  0   \n",
       "4        0.0     0.032564         1.000000         613                  0   \n",
       "\n",
       "   tss  tisspec_enh tissue  \n",
       "0  3.0            0  liver  \n",
       "1  3.0            1  liver  \n",
       "2  3.0            1  liver  \n",
       "3  3.0            0  liver  \n",
       "4  3.0            1  liver  "
      ]
     },
     "execution_count": 6,
     "metadata": {},
     "output_type": "execute_result"
    }
   ],
   "source": [
    "\n",
    "df_liver.head()"
   ]
  },
  {
   "cell_type": "code",
   "execution_count": 7,
   "id": "63568433",
   "metadata": {
    "pycharm": {
     "name": "#%%\n"
    }
   },
   "outputs": [
    {
     "name": "stdout",
     "output_type": "stream",
     "text": [
      "ENSG00000000460\n"
     ]
    }
   ],
   "source": [
    "\n",
    "s = df_liver.groupby('target_gene').size().reset_index()\n",
    "s =s.sort_values(by=[0],ascending=False)\n",
    "print(s['target_gene'][0])\n"
   ]
  },
  {
   "cell_type": "code",
   "execution_count": 8,
   "id": "278fd57a",
   "metadata": {
    "pycharm": {
     "name": "#%%\n"
    },
    "scrolled": false
   },
   "outputs": [
    {
     "name": "stdout",
     "output_type": "stream",
     "text": [
      "1088\n"
     ]
    },
    {
     "name": "stderr",
     "output_type": "stream",
     "text": [
      "/tmp/ipykernel_32247/3719198084.py:2: SettingWithCopyWarning: \n",
      "A value is trying to be set on a copy of a slice from a DataFrame.\n",
      "Try using .loc[row_indexer,col_indexer] = value instead\n",
      "\n",
      "See the caveats in the documentation: https://pandas.pydata.org/pandas-docs/stable/user_guide/indexing.html#returning-a-view-versus-a-copy\n",
      "  df_maxTarget['startEnd'] = df_maxTarget.apply(lambda row: row.enh_chrom +\":\" +str(row.enh_start)+\"-\"+str(row.enh_end), axis=1)\n"
     ]
    }
   ],
   "source": [
    "\n",
    "df_maxTarget = df_liver[df_liver['target_gene'] == s['target_gene'][0]]\n",
    "df_maxTarget['startEnd'] = df_maxTarget.apply(lambda row: row.enh_chrom +\":\" +str(row.enh_start)+\"-\"+str(row.enh_end), axis=1)\n",
    "\n",
    "p = df_maxTarget['startEnd'].duplicated()\n",
    "print(df_maxTarget.size)"
   ]
  },
  {
   "cell_type": "code",
   "execution_count": 9,
   "id": "e2b5fc17",
   "metadata": {
    "pycharm": {
     "name": "#%%\n"
    }
   },
   "outputs": [],
   "source": [
    "\n",
    "pd_bed = pd.DataFrame.from_records([record_dict])"
   ]
  },
  {
   "cell_type": "code",
   "execution_count": 10,
   "id": "4a045bde",
   "metadata": {
    "pycharm": {
     "name": "#%%\n"
    }
   },
   "outputs": [],
   "source": [
    "\n",
    "pd_bed  = pd_bed.transpose().reset_index()"
   ]
  },
  {
   "cell_type": "code",
   "execution_count": 11,
   "id": "c65a0ceb",
   "metadata": {
    "pycharm": {
     "name": "#%%\n"
    }
   },
   "outputs": [
    {
     "name": "stdout",
     "output_type": "stream",
     "text": [
      "                index                                                  0\n",
      "0  chr1:248795-249031  (A, C, A, G, A, T, T, T, C, A, G, A, T, G, G, ...\n",
      "1  chr1:713213-713496  (a, a, a, g, t, g, t, t, g, g, g, a, t, t, a, ...\n",
      "2  chr1:752452-752880  (a, c, g, t, t, g, g, c, c, t, t, g, g, c, a, ...\n",
      "3  chr1:753189-753681  (A, C, A, C, G, G, A, T, C, C, C, T, C, G, G, ...\n",
      "4  chr1:765422-766541  (g, a, a, a, c, c, t, g, t, g, t, t, g, c, g, ...\n"
     ]
    }
   ],
   "source": [
    "\n",
    "print(pd_bed.head())"
   ]
  },
  {
   "cell_type": "code",
   "execution_count": null,
   "id": "bef82cd6",
   "metadata": {
    "pycharm": {
     "name": "#%%\n"
    }
   },
   "outputs": [],
   "source": []
  },
  {
   "cell_type": "code",
   "execution_count": 12,
   "id": "0284d462",
   "metadata": {
    "pycharm": {
     "name": "#%%\n"
    }
   },
   "outputs": [
    {
     "name": "stdout",
     "output_type": "stream",
     "text": [
      "68\n"
     ]
    }
   ],
   "source": [
    "\n",
    "pd_bed_filt = df_maxTarget.merge(pd_bed,left_on=['startEnd'],right_on=['index'])\n",
    "print(len(pd_bed_filt))\n"
   ]
  },
  {
   "cell_type": "code",
   "execution_count": 13,
   "id": "e2e10d73",
   "metadata": {
    "pycharm": {
     "name": "#%%\n"
    },
    "scrolled": false
   },
   "outputs": [
    {
     "name": "stdout",
     "output_type": "stream",
     "text": [
      "1224\n"
     ]
    }
   ],
   "source": [
    "\n",
    "p = pd_bed_filt['startEnd'].duplicated()\n",
    "d = pd_bed_filt.groupby(pd_bed_filt.startEnd.tolist(),as_index=False).size()\n",
    "print(pd_bed_filt.size)"
   ]
  },
  {
   "cell_type": "code",
   "execution_count": 14,
   "id": "ae6f31d9",
   "metadata": {
    "pycharm": {
     "name": "#%%\n"
    }
   },
   "outputs": [
    {
     "data": {
      "text/html": [
       "<div>\n",
       "<style scoped>\n",
       "    .dataframe tbody tr th:only-of-type {\n",
       "        vertical-align: middle;\n",
       "    }\n",
       "\n",
       "    .dataframe tbody tr th {\n",
       "        vertical-align: top;\n",
       "    }\n",
       "\n",
       "    .dataframe thead th {\n",
       "        text-align: right;\n",
       "    }\n",
       "</style>\n",
       "<table border=\"1\" class=\"dataframe\">\n",
       "  <thead>\n",
       "    <tr style=\"text-align: right;\">\n",
       "      <th></th>\n",
       "      <th>enh_chrom</th>\n",
       "      <th>enh_start</th>\n",
       "      <th>enh_end</th>\n",
       "      <th>target_gene</th>\n",
       "      <th>gtex_tpm</th>\n",
       "      <th>hk</th>\n",
       "      <th>lof_intol</th>\n",
       "      <th>essential</th>\n",
       "      <th>rel_entropy</th>\n",
       "      <th>enh_rel_entropy</th>\n",
       "      <th>enh_length</th>\n",
       "      <th>phastcons_overlap</th>\n",
       "      <th>tss</th>\n",
       "      <th>tisspec_enh</th>\n",
       "      <th>tissue</th>\n",
       "      <th>startEnd</th>\n",
       "      <th>index</th>\n",
       "      <th>0</th>\n",
       "    </tr>\n",
       "  </thead>\n",
       "  <tbody>\n",
       "    <tr>\n",
       "      <th>0</th>\n",
       "      <td>chr1</td>\n",
       "      <td>169456879</td>\n",
       "      <td>169457109</td>\n",
       "      <td>ENSG00000000460</td>\n",
       "      <td>0.5</td>\n",
       "      <td>0.0</td>\n",
       "      <td>0.0</td>\n",
       "      <td>0.0</td>\n",
       "      <td>0.040466</td>\n",
       "      <td>0.541843</td>\n",
       "      <td>230</td>\n",
       "      <td>0</td>\n",
       "      <td>6.0</td>\n",
       "      <td>0</td>\n",
       "      <td>liver</td>\n",
       "      <td>chr1:169456879-169457109</td>\n",
       "      <td>chr1:169456879-169457109</td>\n",
       "      <td>(A, G, C, C, A, G, A, G, A, G, G, C, C, T, C, ...</td>\n",
       "    </tr>\n",
       "    <tr>\n",
       "      <th>1</th>\n",
       "      <td>chr1</td>\n",
       "      <td>169476826</td>\n",
       "      <td>169477196</td>\n",
       "      <td>ENSG00000000460</td>\n",
       "      <td>0.5</td>\n",
       "      <td>0.0</td>\n",
       "      <td>0.0</td>\n",
       "      <td>0.0</td>\n",
       "      <td>0.040466</td>\n",
       "      <td>1.000000</td>\n",
       "      <td>370</td>\n",
       "      <td>84</td>\n",
       "      <td>6.0</td>\n",
       "      <td>1</td>\n",
       "      <td>liver</td>\n",
       "      <td>chr1:169476826-169477196</td>\n",
       "      <td>chr1:169476826-169477196</td>\n",
       "      <td>(A, A, A, C, C, T, G, G, T, T, T, T, A, T, T, ...</td>\n",
       "    </tr>\n",
       "    <tr>\n",
       "      <th>2</th>\n",
       "      <td>chr1</td>\n",
       "      <td>169477483</td>\n",
       "      <td>169478174</td>\n",
       "      <td>ENSG00000000460</td>\n",
       "      <td>0.5</td>\n",
       "      <td>0.0</td>\n",
       "      <td>0.0</td>\n",
       "      <td>0.0</td>\n",
       "      <td>0.040466</td>\n",
       "      <td>0.421870</td>\n",
       "      <td>691</td>\n",
       "      <td>86</td>\n",
       "      <td>6.0</td>\n",
       "      <td>0</td>\n",
       "      <td>liver</td>\n",
       "      <td>chr1:169477483-169478174</td>\n",
       "      <td>chr1:169477483-169478174</td>\n",
       "      <td>(G, A, A, T, C, T, T, G, T, G, C, A, A, G, A, ...</td>\n",
       "    </tr>\n",
       "    <tr>\n",
       "      <th>3</th>\n",
       "      <td>chr1</td>\n",
       "      <td>169478295</td>\n",
       "      <td>169479018</td>\n",
       "      <td>ENSG00000000460</td>\n",
       "      <td>0.5</td>\n",
       "      <td>0.0</td>\n",
       "      <td>0.0</td>\n",
       "      <td>0.0</td>\n",
       "      <td>0.040466</td>\n",
       "      <td>0.710935</td>\n",
       "      <td>723</td>\n",
       "      <td>24</td>\n",
       "      <td>6.0</td>\n",
       "      <td>1</td>\n",
       "      <td>liver</td>\n",
       "      <td>chr1:169478295-169479018</td>\n",
       "      <td>chr1:169478295-169479018</td>\n",
       "      <td>(A, T, T, C, T, A, G, C, T, G, C, T, A, G, G, ...</td>\n",
       "    </tr>\n",
       "    <tr>\n",
       "      <th>4</th>\n",
       "      <td>chr1</td>\n",
       "      <td>169482660</td>\n",
       "      <td>169483000</td>\n",
       "      <td>ENSG00000000460</td>\n",
       "      <td>0.5</td>\n",
       "      <td>0.0</td>\n",
       "      <td>0.0</td>\n",
       "      <td>0.0</td>\n",
       "      <td>0.040466</td>\n",
       "      <td>0.710935</td>\n",
       "      <td>340</td>\n",
       "      <td>0</td>\n",
       "      <td>6.0</td>\n",
       "      <td>1</td>\n",
       "      <td>liver</td>\n",
       "      <td>chr1:169482660-169483000</td>\n",
       "      <td>chr1:169482660-169483000</td>\n",
       "      <td>(T, G, C, T, G, G, A, A, G, A, A, G, A, G, A, ...</td>\n",
       "    </tr>\n",
       "    <tr>\n",
       "      <th>...</th>\n",
       "      <td>...</td>\n",
       "      <td>...</td>\n",
       "      <td>...</td>\n",
       "      <td>...</td>\n",
       "      <td>...</td>\n",
       "      <td>...</td>\n",
       "      <td>...</td>\n",
       "      <td>...</td>\n",
       "      <td>...</td>\n",
       "      <td>...</td>\n",
       "      <td>...</td>\n",
       "      <td>...</td>\n",
       "      <td>...</td>\n",
       "      <td>...</td>\n",
       "      <td>...</td>\n",
       "      <td>...</td>\n",
       "      <td>...</td>\n",
       "      <td>...</td>\n",
       "    </tr>\n",
       "    <tr>\n",
       "      <th>63</th>\n",
       "      <td>chr1</td>\n",
       "      <td>169694846</td>\n",
       "      <td>169695078</td>\n",
       "      <td>ENSG00000000460</td>\n",
       "      <td>0.5</td>\n",
       "      <td>0.0</td>\n",
       "      <td>0.0</td>\n",
       "      <td>0.0</td>\n",
       "      <td>0.040466</td>\n",
       "      <td>1.000000</td>\n",
       "      <td>232</td>\n",
       "      <td>143</td>\n",
       "      <td>6.0</td>\n",
       "      <td>1</td>\n",
       "      <td>liver</td>\n",
       "      <td>chr1:169694846-169695078</td>\n",
       "      <td>chr1:169694846-169695078</td>\n",
       "      <td>(C, A, T, T, T, G, T, G, A, T, T, T, A, C, A, ...</td>\n",
       "    </tr>\n",
       "    <tr>\n",
       "      <th>64</th>\n",
       "      <td>chr1</td>\n",
       "      <td>169694846</td>\n",
       "      <td>169695078</td>\n",
       "      <td>ENSG00000000460</td>\n",
       "      <td>0.5</td>\n",
       "      <td>0.0</td>\n",
       "      <td>0.0</td>\n",
       "      <td>0.0</td>\n",
       "      <td>0.040466</td>\n",
       "      <td>1.000000</td>\n",
       "      <td>232</td>\n",
       "      <td>143</td>\n",
       "      <td>4.0</td>\n",
       "      <td>1</td>\n",
       "      <td>liver</td>\n",
       "      <td>chr1:169694846-169695078</td>\n",
       "      <td>chr1:169694846-169695078</td>\n",
       "      <td>(C, A, T, T, T, G, T, G, A, T, T, T, A, C, A, ...</td>\n",
       "    </tr>\n",
       "    <tr>\n",
       "      <th>65</th>\n",
       "      <td>chr1</td>\n",
       "      <td>169694846</td>\n",
       "      <td>169695078</td>\n",
       "      <td>ENSG00000000460</td>\n",
       "      <td>0.5</td>\n",
       "      <td>0.0</td>\n",
       "      <td>0.0</td>\n",
       "      <td>0.0</td>\n",
       "      <td>0.040466</td>\n",
       "      <td>1.000000</td>\n",
       "      <td>232</td>\n",
       "      <td>143</td>\n",
       "      <td>3.0</td>\n",
       "      <td>1</td>\n",
       "      <td>liver</td>\n",
       "      <td>chr1:169694846-169695078</td>\n",
       "      <td>chr1:169694846-169695078</td>\n",
       "      <td>(C, A, T, T, T, G, T, G, A, T, T, T, A, C, A, ...</td>\n",
       "    </tr>\n",
       "    <tr>\n",
       "      <th>66</th>\n",
       "      <td>chr1</td>\n",
       "      <td>169709455</td>\n",
       "      <td>169709700</td>\n",
       "      <td>ENSG00000000460</td>\n",
       "      <td>0.5</td>\n",
       "      <td>0.0</td>\n",
       "      <td>0.0</td>\n",
       "      <td>0.0</td>\n",
       "      <td>0.040466</td>\n",
       "      <td>0.710935</td>\n",
       "      <td>245</td>\n",
       "      <td>23</td>\n",
       "      <td>6.0</td>\n",
       "      <td>1</td>\n",
       "      <td>liver</td>\n",
       "      <td>chr1:169709455-169709700</td>\n",
       "      <td>chr1:169709455-169709700</td>\n",
       "      <td>(G, T, C, A, G, A, A, A, T, T, T, C, C, T, G, ...</td>\n",
       "    </tr>\n",
       "    <tr>\n",
       "      <th>67</th>\n",
       "      <td>chr1</td>\n",
       "      <td>169709455</td>\n",
       "      <td>169709700</td>\n",
       "      <td>ENSG00000000460</td>\n",
       "      <td>0.5</td>\n",
       "      <td>0.0</td>\n",
       "      <td>0.0</td>\n",
       "      <td>0.0</td>\n",
       "      <td>0.040466</td>\n",
       "      <td>0.710935</td>\n",
       "      <td>245</td>\n",
       "      <td>23</td>\n",
       "      <td>4.0</td>\n",
       "      <td>1</td>\n",
       "      <td>liver</td>\n",
       "      <td>chr1:169709455-169709700</td>\n",
       "      <td>chr1:169709455-169709700</td>\n",
       "      <td>(G, T, C, A, G, A, A, A, T, T, T, C, C, T, G, ...</td>\n",
       "    </tr>\n",
       "  </tbody>\n",
       "</table>\n",
       "<p>68 rows × 18 columns</p>\n",
       "</div>"
      ],
      "text/plain": [
       "   enh_chrom  enh_start    enh_end      target_gene  gtex_tpm   hk  lof_intol  \\\n",
       "0       chr1  169456879  169457109  ENSG00000000460       0.5  0.0        0.0   \n",
       "1       chr1  169476826  169477196  ENSG00000000460       0.5  0.0        0.0   \n",
       "2       chr1  169477483  169478174  ENSG00000000460       0.5  0.0        0.0   \n",
       "3       chr1  169478295  169479018  ENSG00000000460       0.5  0.0        0.0   \n",
       "4       chr1  169482660  169483000  ENSG00000000460       0.5  0.0        0.0   \n",
       "..       ...        ...        ...              ...       ...  ...        ...   \n",
       "63      chr1  169694846  169695078  ENSG00000000460       0.5  0.0        0.0   \n",
       "64      chr1  169694846  169695078  ENSG00000000460       0.5  0.0        0.0   \n",
       "65      chr1  169694846  169695078  ENSG00000000460       0.5  0.0        0.0   \n",
       "66      chr1  169709455  169709700  ENSG00000000460       0.5  0.0        0.0   \n",
       "67      chr1  169709455  169709700  ENSG00000000460       0.5  0.0        0.0   \n",
       "\n",
       "    essential  rel_entropy  enh_rel_entropy  enh_length  phastcons_overlap  \\\n",
       "0         0.0     0.040466         0.541843         230                  0   \n",
       "1         0.0     0.040466         1.000000         370                 84   \n",
       "2         0.0     0.040466         0.421870         691                 86   \n",
       "3         0.0     0.040466         0.710935         723                 24   \n",
       "4         0.0     0.040466         0.710935         340                  0   \n",
       "..        ...          ...              ...         ...                ...   \n",
       "63        0.0     0.040466         1.000000         232                143   \n",
       "64        0.0     0.040466         1.000000         232                143   \n",
       "65        0.0     0.040466         1.000000         232                143   \n",
       "66        0.0     0.040466         0.710935         245                 23   \n",
       "67        0.0     0.040466         0.710935         245                 23   \n",
       "\n",
       "    tss  tisspec_enh tissue                  startEnd  \\\n",
       "0   6.0            0  liver  chr1:169456879-169457109   \n",
       "1   6.0            1  liver  chr1:169476826-169477196   \n",
       "2   6.0            0  liver  chr1:169477483-169478174   \n",
       "3   6.0            1  liver  chr1:169478295-169479018   \n",
       "4   6.0            1  liver  chr1:169482660-169483000   \n",
       "..  ...          ...    ...                       ...   \n",
       "63  6.0            1  liver  chr1:169694846-169695078   \n",
       "64  4.0            1  liver  chr1:169694846-169695078   \n",
       "65  3.0            1  liver  chr1:169694846-169695078   \n",
       "66  6.0            1  liver  chr1:169709455-169709700   \n",
       "67  4.0            1  liver  chr1:169709455-169709700   \n",
       "\n",
       "                       index  \\\n",
       "0   chr1:169456879-169457109   \n",
       "1   chr1:169476826-169477196   \n",
       "2   chr1:169477483-169478174   \n",
       "3   chr1:169478295-169479018   \n",
       "4   chr1:169482660-169483000   \n",
       "..                       ...   \n",
       "63  chr1:169694846-169695078   \n",
       "64  chr1:169694846-169695078   \n",
       "65  chr1:169694846-169695078   \n",
       "66  chr1:169709455-169709700   \n",
       "67  chr1:169709455-169709700   \n",
       "\n",
       "                                                    0  \n",
       "0   (A, G, C, C, A, G, A, G, A, G, G, C, C, T, C, ...  \n",
       "1   (A, A, A, C, C, T, G, G, T, T, T, T, A, T, T, ...  \n",
       "2   (G, A, A, T, C, T, T, G, T, G, C, A, A, G, A, ...  \n",
       "3   (A, T, T, C, T, A, G, C, T, G, C, T, A, G, G, ...  \n",
       "4   (T, G, C, T, G, G, A, A, G, A, A, G, A, G, A, ...  \n",
       "..                                                ...  \n",
       "63  (C, A, T, T, T, G, T, G, A, T, T, T, A, C, A, ...  \n",
       "64  (C, A, T, T, T, G, T, G, A, T, T, T, A, C, A, ...  \n",
       "65  (C, A, T, T, T, G, T, G, A, T, T, T, A, C, A, ...  \n",
       "66  (G, T, C, A, G, A, A, A, T, T, T, C, C, T, G, ...  \n",
       "67  (G, T, C, A, G, A, A, A, T, T, T, C, C, T, G, ...  \n",
       "\n",
       "[68 rows x 18 columns]"
      ]
     },
     "execution_count": 14,
     "metadata": {},
     "output_type": "execute_result"
    }
   ],
   "source": [
    "pd_bed_filt"
   ]
  },
  {
   "cell_type": "code",
   "execution_count": 15,
   "id": "b658fccc",
   "metadata": {
    "pycharm": {
     "name": "#%%\n"
    }
   },
   "outputs": [
    {
     "name": "stdout",
     "output_type": "stream",
     "text": [
      "41\n"
     ]
    }
   ],
   "source": [
    "print(p[p == True].size)"
   ]
  },
  {
   "cell_type": "code",
   "execution_count": 16,
   "id": "0ece215c",
   "metadata": {
    "pycharm": {
     "name": "#%%\n"
    }
   },
   "outputs": [],
   "source": [
    "\n",
    "# pd_bed_filt =pd_bed_filt.transpose().reset_index()\n",
    "pd_bed_filt = pd_bed_filt.rename(columns={0: \"lister\"})\n"
   ]
  },
  {
   "cell_type": "code",
   "execution_count": 17,
   "id": "ebf7ed0d",
   "metadata": {
    "pycharm": {
     "name": "#%%\n"
    }
   },
   "outputs": [
    {
     "name": "stdout",
     "output_type": "stream",
     "text": [
      "68\n"
     ]
    }
   ],
   "source": [
    "\n",
    "pd_bed_filt = pd_bed_filt[['startEnd','lister']]\n",
    "print(len(pd_bed_filt))\n"
   ]
  },
  {
   "cell_type": "code",
   "execution_count": 18,
   "id": "5c9db7af",
   "metadata": {
    "pycharm": {
     "name": "#%%\n"
    }
   },
   "outputs": [],
   "source": [
    "def slow_func(allList,k):\n",
    "#     print(allList[\"lister\"])\n",
    "    kmers = str(allList[\"lister\"]).upper()\n",
    "    pattern = {}\n",
    "    for i in range(0,len(kmers)-k+1):\n",
    "        p = kmers[i:i+k]\n",
    "        if(p in pattern):\n",
    "            pattern[p] = pattern[p]+1\n",
    "        else:\n",
    "            pattern[p] = 1\n",
    "    return pattern\n",
    "\n",
    "        "
   ]
  },
  {
   "cell_type": "code",
   "execution_count": 19,
   "id": "90af32b1",
   "metadata": {
    "pycharm": {
     "name": "#%%\n"
    }
   },
   "outputs": [],
   "source": [
    "def getKmers(allList,k):\n",
    "#     print(allList[\"lister\"])\n",
    "    kmers = str(allList.lister).upper()\n",
    "    pattern = {}\n",
    "    for i in range(0,len(kmers)-k+1):\n",
    "        p = kmers[i:i+k]\n",
    "        if(p in pattern):\n",
    "            pattern[p] = pattern[p]+1\n",
    "        else:\n",
    "            pattern[p] = 1\n",
    "    return pattern\n"
   ]
  },
  {
   "cell_type": "code",
   "execution_count": 20,
   "id": "de420a7f",
   "metadata": {
    "pycharm": {
     "name": "#%%\n"
    }
   },
   "outputs": [],
   "source": [
    "def getKmers5(allList,k=5):\n",
    "#     print(allList[\"lister\"])\n",
    "    kmers = str(allList.seq).upper()\n",
    "    pattern = {}\n",
    "    for i in range(0,len(kmers)-k+1):\n",
    "        p = kmers[i:i+k]\n",
    "        if(p in pattern):\n",
    "            pattern[p] = pattern[p]+1\n",
    "        else:\n",
    "            pattern[p] = 1\n",
    "    return pattern\n",
    "\n"
   ]
  },
  {
   "cell_type": "code",
   "execution_count": 21,
   "id": "9029a08e",
   "metadata": {
    "pycharm": {
     "name": "#%%\n"
    }
   },
   "outputs": [],
   "source": [
    "def getKmers6(allList,k=6):\n",
    "#     print(allList[\"lister\"])\n",
    "    kmers = str(allList.seq).upper()\n",
    "    pattern = {}\n",
    "    for i in range(0,len(kmers)-k+1):\n",
    "        p = kmers[i:i+k]\n",
    "        if(p in pattern):\n",
    "            pattern[p] = pattern[p]+1\n",
    "        else:\n",
    "            pattern[p] = 1\n",
    "    return pattern"
   ]
  },
  {
   "cell_type": "code",
   "execution_count": 22,
   "id": "10bb95d0",
   "metadata": {
    "pycharm": {
     "name": "#%%\n"
    }
   },
   "outputs": [],
   "source": [
    "def getKmers7(allList,k=7):\n",
    "#     print(allList[\"lister\"])\n",
    "    kmers = str(allList.seq).upper()\n",
    "    pattern = {}\n",
    "    for i in range(0,len(kmers)-k+1):\n",
    "        p = kmers[i:i+k]\n",
    "        if(p in pattern):\n",
    "            pattern[p] = pattern[p]+1\n",
    "        else:\n",
    "            pattern[p] = 1\n",
    "    return pattern"
   ]
  },
  {
   "cell_type": "code",
   "execution_count": 23,
   "id": "6c1bc32f",
   "metadata": {
    "pycharm": {
     "name": "#%%\n"
    }
   },
   "outputs": [],
   "source": [
    "def getKmers8(allList,k=8):\n",
    "#     print(allList[\"lister\"])\n",
    "    kmers = str(allList.seq).upper()\n",
    "    pattern = {}\n",
    "    for i in range(0,len(kmers)-k+1):\n",
    "        p = kmers[i:i+k]\n",
    "        if(p in pattern):\n",
    "            pattern[p] = pattern[p]+1\n",
    "        else:\n",
    "            pattern[p] = 1\n",
    "    return pattern"
   ]
  },
  {
   "cell_type": "code",
   "execution_count": 24,
   "id": "b79295e8",
   "metadata": {
    "pycharm": {
     "name": "#%%\n"
    }
   },
   "outputs": [],
   "source": [
    "def getKmers9(allList,k=9):\n",
    "#     print(allList[\"lister\"])\n",
    "    kmers = str(allList.seq).upper()\n",
    "    pattern = {}\n",
    "    for i in range(0,len(kmers)-k+1):\n",
    "        p = kmers[i:i+k]\n",
    "        if(p in pattern):\n",
    "            pattern[p] = pattern[p]+1\n",
    "        else:\n",
    "            pattern[p] = 1\n",
    "    return pattern"
   ]
  },
  {
   "cell_type": "code",
   "execution_count": 25,
   "id": "6cd21391",
   "metadata": {
    "pycharm": {
     "name": "#%%\n"
    },
    "scrolled": false
   },
   "outputs": [],
   "source": [
    "# pd_bed_filt['kmer4'] = pd_bed_filt.apply(getKmers,args=(4,),axis=1)\n",
    "# pd_bed_filt['kmer5'] = pd_bed_filt.apply(getKmers,args=(5,),axis=1)\n",
    "# pd_bed_filt['kmer6'] = pd_bed_filt.apply(getKmers,args=(6,),axis=1)\n",
    "# pd_bed_filt['kmer7'] = pd_bed_filt.apply(getKmers,args=(7,),axis=1)\n",
    "# pd_bed_filt['kmer8'] = pd_bed_filt.apply(getKmers,args=(8,),axis=1)\n",
    "# pd_bed_filt['kmer9'] = pd_bed_filt.apply(getKmers,args=(9,),axis=1)"
   ]
  },
  {
   "cell_type": "code",
   "execution_count": 26,
   "id": "12251b75",
   "metadata": {
    "pycharm": {
     "name": "#%%\n"
    },
    "scrolled": true
   },
   "outputs": [],
   "source": [
    "# print(pd_bed_filt.head())"
   ]
  },
  {
   "cell_type": "code",
   "execution_count": 27,
   "id": "ba25e31b",
   "metadata": {
    "pycharm": {
     "name": "#%%\n"
    }
   },
   "outputs": [],
   "source": [
    "# def sortmap(k,kmer):\n",
    "#     abc  = k[kmer]\n",
    "#     return {k: v for k, v in sorted(list(abc.items()))}\n",
    "    "
   ]
  },
  {
   "cell_type": "code",
   "execution_count": 28,
   "id": "9f052d96",
   "metadata": {
    "pycharm": {
     "name": "#%%\n"
    }
   },
   "outputs": [],
   "source": [
    "# pd_bed_filt['kmer4'] = pd_bed_filt.apply(sortmap,args=('kmer4',),axis=1)"
   ]
  },
  {
   "cell_type": "code",
   "execution_count": 29,
   "id": "6759aa49",
   "metadata": {
    "pycharm": {
     "name": "#%%\n"
    }
   },
   "outputs": [],
   "source": [
    "# my_dict = pd_bed_filt['kmer4'].tolist()"
   ]
  },
  {
   "cell_type": "code",
   "execution_count": 30,
   "id": "6c9937b7",
   "metadata": {
    "pycharm": {
     "name": "#%%\n"
    }
   },
   "outputs": [],
   "source": [
    "# common_keys = set.intersection(*map(set, my_dict))\n",
    "\n",
    "# # Makes a new dict with only those keys and sums the values into another dict\n",
    "# summed_dict = {key: sum(d[key] for d in my_dict) for key in common_keys}"
   ]
  },
  {
   "cell_type": "code",
   "execution_count": 31,
   "id": "03812f7f",
   "metadata": {
    "pycharm": {
     "name": "#%%\n"
    }
   },
   "outputs": [],
   "source": [
    "# for b in common_keys:\n",
    "#     for t in my_dict:\n",
    "#         print(b + \" = \"+str(t.get(b)))"
   ]
  },
  {
   "cell_type": "code",
   "execution_count": 32,
   "id": "34d35bc7",
   "metadata": {
    "pycharm": {
     "name": "#%%\n"
    }
   },
   "outputs": [],
   "source": [
    "# pd_bed_filt['kmer5'] = pd_bed_filt.apply(sortmap,args=('kmer5',),axis=1)"
   ]
  },
  {
   "cell_type": "code",
   "execution_count": 33,
   "id": "19028476",
   "metadata": {
    "pycharm": {
     "name": "#%%\n"
    }
   },
   "outputs": [],
   "source": [
    "# my_dict_5 = pd_bed_filt['kmer5'].tolist()\n",
    "# common_keys_5 = set.intersection(*map(set, my_dict_5))\n",
    "# print(common_keys_5)"
   ]
  },
  {
   "cell_type": "code",
   "execution_count": 34,
   "id": "28b03eb7",
   "metadata": {
    "pycharm": {
     "name": "#%%\n"
    }
   },
   "outputs": [],
   "source": [
    "# df_maxTarget_1 = df_liver[df_liver['target_gene'] == s['target_gene'][1]]\n",
    "# df_maxTarget_1['startEnd'] = df_maxTarget_1.apply(lambda row: row.enh_chrom +\":\" +str(row.enh_start)+\"-\"+str(row.enh_end), axis=1)\n",
    "\n",
    "# pd_bed_filt_1 = df_maxTarget_1.merge(pd_bed,left_on=['startEnd'],right_on=['index'])\n",
    "# pd_bed_filt_1 = pd_bed_filt_1.rename(columns={0: \"lister\"})\n",
    "# pd_bed_filt_1 = pd_bed_filt_1[['startEnd', 'lister']]\n",
    "\n",
    "# pd_bed_filt_1['kmer4'] = pd_bed_filt_1.apply(getKmers,args=(4,),axis=1)\n",
    "# pd_bed_filt_1['kmer5'] = pd_bed_filt_1.apply(getKmers,args=(5,),axis=1)\n",
    "# pd_bed_filt_1['kmer6'] = pd_bed_filt_1.apply(getKmers,args=(6,),axis=1)\n",
    "# pd_bed_filt_1['kmer7'] = pd_bed_filt_1.apply(getKmers,args=(7,),axis=1)\n",
    "# pd_bed_filt_1['kmer8'] = pd_bed_filt_1.apply(getKmers,args=(8,),axis=1)\n",
    "# pd_bed_filt_1['kmer9'] = pd_bed_filt_1.apply(getKmers,args=(9,),axis=1)\n",
    "\n"
   ]
  },
  {
   "cell_type": "code",
   "execution_count": 35,
   "id": "8af44c04",
   "metadata": {
    "pycharm": {
     "name": "#%%\n"
    }
   },
   "outputs": [],
   "source": [
    "# my_dict = pd_bed_filt_1['kmer4'].tolist()\n",
    "# common_keys = set.intersection(*map(set, my_dict))\n",
    "# print(common_keys)"
   ]
  },
  {
   "cell_type": "code",
   "execution_count": 36,
   "id": "6a595465",
   "metadata": {
    "pycharm": {
     "name": "#%%\n"
    }
   },
   "outputs": [],
   "source": [
    "# print(len(df_maxTarget_1))"
   ]
  },
  {
   "cell_type": "code",
   "execution_count": 37,
   "id": "d5d8fa5f",
   "metadata": {
    "pycharm": {
     "name": "#%%\n"
    },
    "scrolled": true
   },
   "outputs": [],
   "source": [
    "# print(len(pd_bed_filt_1))\n",
    "kmerList=['kmer4','kmer5','kmer6','kmer7','kmer8','kmer9']"
   ]
  },
  {
   "cell_type": "code",
   "execution_count": 38,
   "id": "00796d71",
   "metadata": {
    "pycharm": {
     "name": "#%%\n"
    },
    "scrolled": true
   },
   "outputs": [],
   "source": [
    "# d = {}\n",
    "# for i in range(0,len(s['target_gene'])):\n",
    "#     p = df_liver[df_liver['target_gene'] == s['target_gene'][i]]\n",
    "    \n",
    "\n",
    "#     p['startEnd'] = p.apply(lambda row: row.enh_chrom +\":\" +str(row.enh_start)+\"-\"+str(row.enh_end), axis=1)\n",
    "\n",
    "#     p = p.merge(pd_bed,left_on=['startEnd'],right_on=['index'])\n",
    "#     p= p.rename(columns={0: \"lister\"})\n",
    "#     p = p[['startEnd', 'lister']]\n",
    "\n",
    "#     p['kmer4'] = p.apply(getKmers,args=(4,),axis=1)\n",
    "#     p['kmer5'] = p.apply(getKmers,args=(5,),axis=1)\n",
    "#     p['kmer6'] = p.apply(getKmers,args=(6,),axis=1)\n",
    "#     p['kmer7'] = p.apply(getKmers,args=(7,),axis=1)\n",
    "#     p['kmer8'] = p.apply(getKmers,args=(8,),axis=1)\n",
    "#     p['kmer9'] = p.apply(getKmers,args=(9,),axis=1)\n",
    "#     d[s['target_gene'][i]] = p\n",
    "\n",
    "\n"
   ]
  },
  {
   "cell_type": "code",
   "execution_count": 39,
   "id": "3fbbb0d8",
   "metadata": {
    "pycharm": {
     "name": "#%%\n"
    }
   },
   "outputs": [],
   "source": [
    "from dask.dataframe import from_pandas"
   ]
  },
  {
   "cell_type": "code",
   "execution_count": null,
   "id": "0d121304",
   "metadata": {
    "pycharm": {
     "name": "#%%\n"
    }
   },
   "outputs": [],
   "source": []
  },
  {
   "cell_type": "code",
   "execution_count": 40,
   "id": "c85eff1c",
   "metadata": {
    "pycharm": {
     "name": "#%%\n"
    }
   },
   "outputs": [],
   "source": [
    "\n",
    "p = s.merge(df_liver,left_on=['target_gene'],right_on=['target_gene'])"
   ]
  },
  {
   "cell_type": "code",
   "execution_count": null,
   "id": "bd40bd5e",
   "metadata": {
    "pycharm": {
     "name": "#%%\n"
    }
   },
   "outputs": [],
   "source": []
  },
  {
   "cell_type": "code",
   "execution_count": 41,
   "id": "4b843783",
   "metadata": {
    "pycharm": {
     "name": "#%%\n"
    }
   },
   "outputs": [],
   "source": [
    "\n",
    "p['startEnd'] = p.apply(lambda row: row.enh_chrom +\":\" +str(row.enh_start)+\"-\"+str(row.enh_end), axis=1)"
   ]
  },
  {
   "cell_type": "code",
   "execution_count": 42,
   "id": "65171d66",
   "metadata": {
    "pycharm": {
     "name": "#%%\n"
    }
   },
   "outputs": [],
   "source": [
    "\n",
    "p = p.merge(pd_bed,left_on=['startEnd'],right_on=['index'])"
   ]
  },
  {
   "cell_type": "code",
   "execution_count": 43,
   "id": "764b15aa",
   "metadata": {
    "pycharm": {
     "name": "#%%\n"
    }
   },
   "outputs": [],
   "source": [
    "\n",
    "p= p.rename(columns={'0_y': \"lister\"})"
   ]
  },
  {
   "cell_type": "code",
   "execution_count": 44,
   "id": "c30a21ce",
   "metadata": {
    "pycharm": {
     "name": "#%%\n"
    }
   },
   "outputs": [
    {
     "data": {
      "text/html": [
       "<div>\n",
       "<style scoped>\n",
       "    .dataframe tbody tr th:only-of-type {\n",
       "        vertical-align: middle;\n",
       "    }\n",
       "\n",
       "    .dataframe tbody tr th {\n",
       "        vertical-align: top;\n",
       "    }\n",
       "\n",
       "    .dataframe thead th {\n",
       "        text-align: right;\n",
       "    }\n",
       "</style>\n",
       "<table border=\"1\" class=\"dataframe\">\n",
       "  <thead>\n",
       "    <tr style=\"text-align: right;\">\n",
       "      <th></th>\n",
       "      <th>target_gene</th>\n",
       "      <th>0_x</th>\n",
       "      <th>enh_chrom</th>\n",
       "      <th>enh_start</th>\n",
       "      <th>enh_end</th>\n",
       "      <th>gtex_tpm</th>\n",
       "      <th>hk</th>\n",
       "      <th>lof_intol</th>\n",
       "      <th>essential</th>\n",
       "      <th>rel_entropy</th>\n",
       "      <th>enh_rel_entropy</th>\n",
       "      <th>enh_length</th>\n",
       "      <th>phastcons_overlap</th>\n",
       "      <th>tss</th>\n",
       "      <th>tisspec_enh</th>\n",
       "      <th>tissue</th>\n",
       "      <th>startEnd</th>\n",
       "      <th>index</th>\n",
       "      <th>lister</th>\n",
       "    </tr>\n",
       "  </thead>\n",
       "  <tbody>\n",
       "    <tr>\n",
       "      <th>0</th>\n",
       "      <td>ENSG00000111266</td>\n",
       "      <td>382</td>\n",
       "      <td>chr12</td>\n",
       "      <td>12234857</td>\n",
       "      <td>12235410</td>\n",
       "      <td>11.4</td>\n",
       "      <td>1.0</td>\n",
       "      <td>0.0</td>\n",
       "      <td>0.0</td>\n",
       "      <td>0.042832</td>\n",
       "      <td>0.132806</td>\n",
       "      <td>553</td>\n",
       "      <td>57</td>\n",
       "      <td>6.0</td>\n",
       "      <td>0</td>\n",
       "      <td>liver</td>\n",
       "      <td>chr12:12234857-12235410</td>\n",
       "      <td>chr12:12234857-12235410</td>\n",
       "      <td>(A, A, T, T, A, G, T, C, A, A, G, A, G, G, T, ...</td>\n",
       "    </tr>\n",
       "    <tr>\n",
       "      <th>1</th>\n",
       "      <td>ENSG00000165714</td>\n",
       "      <td>347</td>\n",
       "      <td>chr12</td>\n",
       "      <td>12234857</td>\n",
       "      <td>12235410</td>\n",
       "      <td>3.5</td>\n",
       "      <td>0.0</td>\n",
       "      <td>0.0</td>\n",
       "      <td>0.0</td>\n",
       "      <td>0.014193</td>\n",
       "      <td>0.132806</td>\n",
       "      <td>553</td>\n",
       "      <td>57</td>\n",
       "      <td>6.0</td>\n",
       "      <td>0</td>\n",
       "      <td>liver</td>\n",
       "      <td>chr12:12234857-12235410</td>\n",
       "      <td>chr12:12234857-12235410</td>\n",
       "      <td>(A, A, T, T, A, G, T, C, A, A, G, A, G, G, T, ...</td>\n",
       "    </tr>\n",
       "    <tr>\n",
       "      <th>2</th>\n",
       "      <td>ENSG00000111269</td>\n",
       "      <td>263</td>\n",
       "      <td>chr12</td>\n",
       "      <td>12234857</td>\n",
       "      <td>12235410</td>\n",
       "      <td>9.9</td>\n",
       "      <td>0.0</td>\n",
       "      <td>0.0</td>\n",
       "      <td>0.0</td>\n",
       "      <td>0.012612</td>\n",
       "      <td>0.132806</td>\n",
       "      <td>553</td>\n",
       "      <td>57</td>\n",
       "      <td>6.0</td>\n",
       "      <td>0</td>\n",
       "      <td>liver</td>\n",
       "      <td>chr12:12234857-12235410</td>\n",
       "      <td>chr12:12234857-12235410</td>\n",
       "      <td>(A, A, T, T, A, G, T, C, A, A, G, A, G, G, T, ...</td>\n",
       "    </tr>\n",
       "    <tr>\n",
       "      <th>3</th>\n",
       "      <td>ENSG00000183150</td>\n",
       "      <td>263</td>\n",
       "      <td>chr12</td>\n",
       "      <td>12234857</td>\n",
       "      <td>12235410</td>\n",
       "      <td>0.0</td>\n",
       "      <td>0.0</td>\n",
       "      <td>0.0</td>\n",
       "      <td>0.0</td>\n",
       "      <td>0.371771</td>\n",
       "      <td>0.132806</td>\n",
       "      <td>553</td>\n",
       "      <td>57</td>\n",
       "      <td>6.0</td>\n",
       "      <td>0</td>\n",
       "      <td>liver</td>\n",
       "      <td>chr12:12234857-12235410</td>\n",
       "      <td>chr12:12234857-12235410</td>\n",
       "      <td>(A, A, T, T, A, G, T, C, A, A, G, A, G, G, T, ...</td>\n",
       "    </tr>\n",
       "    <tr>\n",
       "      <th>4</th>\n",
       "      <td>ENSG00000111261</td>\n",
       "      <td>260</td>\n",
       "      <td>chr12</td>\n",
       "      <td>12234857</td>\n",
       "      <td>12235410</td>\n",
       "      <td>3.7</td>\n",
       "      <td>0.0</td>\n",
       "      <td>0.0</td>\n",
       "      <td>0.0</td>\n",
       "      <td>0.015390</td>\n",
       "      <td>0.132806</td>\n",
       "      <td>553</td>\n",
       "      <td>57</td>\n",
       "      <td>2.0</td>\n",
       "      <td>0</td>\n",
       "      <td>liver</td>\n",
       "      <td>chr12:12234857-12235410</td>\n",
       "      <td>chr12:12234857-12235410</td>\n",
       "      <td>(A, A, T, T, A, G, T, C, A, A, G, A, G, G, T, ...</td>\n",
       "    </tr>\n",
       "  </tbody>\n",
       "</table>\n",
       "</div>"
      ],
      "text/plain": [
       "       target_gene  0_x enh_chrom  enh_start   enh_end  gtex_tpm   hk  \\\n",
       "0  ENSG00000111266  382     chr12   12234857  12235410      11.4  1.0   \n",
       "1  ENSG00000165714  347     chr12   12234857  12235410       3.5  0.0   \n",
       "2  ENSG00000111269  263     chr12   12234857  12235410       9.9  0.0   \n",
       "3  ENSG00000183150  263     chr12   12234857  12235410       0.0  0.0   \n",
       "4  ENSG00000111261  260     chr12   12234857  12235410       3.7  0.0   \n",
       "\n",
       "   lof_intol  essential  rel_entropy  enh_rel_entropy  enh_length  \\\n",
       "0        0.0        0.0     0.042832         0.132806         553   \n",
       "1        0.0        0.0     0.014193         0.132806         553   \n",
       "2        0.0        0.0     0.012612         0.132806         553   \n",
       "3        0.0        0.0     0.371771         0.132806         553   \n",
       "4        0.0        0.0     0.015390         0.132806         553   \n",
       "\n",
       "   phastcons_overlap  tss  tisspec_enh tissue                 startEnd  \\\n",
       "0                 57  6.0            0  liver  chr12:12234857-12235410   \n",
       "1                 57  6.0            0  liver  chr12:12234857-12235410   \n",
       "2                 57  6.0            0  liver  chr12:12234857-12235410   \n",
       "3                 57  6.0            0  liver  chr12:12234857-12235410   \n",
       "4                 57  2.0            0  liver  chr12:12234857-12235410   \n",
       "\n",
       "                     index                                             lister  \n",
       "0  chr12:12234857-12235410  (A, A, T, T, A, G, T, C, A, A, G, A, G, G, T, ...  \n",
       "1  chr12:12234857-12235410  (A, A, T, T, A, G, T, C, A, A, G, A, G, G, T, ...  \n",
       "2  chr12:12234857-12235410  (A, A, T, T, A, G, T, C, A, A, G, A, G, G, T, ...  \n",
       "3  chr12:12234857-12235410  (A, A, T, T, A, G, T, C, A, A, G, A, G, G, T, ...  \n",
       "4  chr12:12234857-12235410  (A, A, T, T, A, G, T, C, A, A, G, A, G, G, T, ...  "
      ]
     },
     "execution_count": 44,
     "metadata": {},
     "output_type": "execute_result"
    }
   ],
   "source": [
    "\n",
    "p.head()"
   ]
  },
  {
   "cell_type": "code",
   "execution_count": 45,
   "id": "c171250e",
   "metadata": {
    "pycharm": {
     "name": "#%%\n"
    }
   },
   "outputs": [],
   "source": [
    "\n",
    "\n",
    "p = p[['startEnd', 'lister','target_gene']]"
   ]
  },
  {
   "cell_type": "code",
   "execution_count": 46,
   "id": "f3e6b418",
   "metadata": {
    "pycharm": {
     "name": "#%%\n"
    }
   },
   "outputs": [],
   "source": [
    "\n",
    "k= p.groupby('target_gene')['lister'].agg(list)"
   ]
  },
  {
   "cell_type": "code",
   "execution_count": 47,
   "id": "e8607e0a",
   "metadata": {
    "pycharm": {
     "name": "#%%\n"
    },
    "scrolled": true
   },
   "outputs": [],
   "source": [
    "\n",
    "k = k.reset_index()"
   ]
  },
  {
   "cell_type": "code",
   "execution_count": null,
   "id": "47461a40",
   "metadata": {
    "pycharm": {
     "name": "#%%\n"
    }
   },
   "outputs": [],
   "source": []
  },
  {
   "cell_type": "code",
   "execution_count": 48,
   "id": "e2d8cc31",
   "metadata": {
    "pycharm": {
     "name": "#%%\n"
    },
    "scrolled": true
   },
   "outputs": [
    {
     "data": {
      "text/html": [
       "<div>\n",
       "<style scoped>\n",
       "    .dataframe tbody tr th:only-of-type {\n",
       "        vertical-align: middle;\n",
       "    }\n",
       "\n",
       "    .dataframe tbody tr th {\n",
       "        vertical-align: top;\n",
       "    }\n",
       "\n",
       "    .dataframe thead th {\n",
       "        text-align: right;\n",
       "    }\n",
       "</style>\n",
       "<table border=\"1\" class=\"dataframe\">\n",
       "  <thead>\n",
       "    <tr style=\"text-align: right;\">\n",
       "      <th></th>\n",
       "      <th>target_gene</th>\n",
       "      <th>lister</th>\n",
       "    </tr>\n",
       "  </thead>\n",
       "  <tbody>\n",
       "    <tr>\n",
       "      <th>0</th>\n",
       "      <td>ENSG00000000460</td>\n",
       "      <td>[(A, G, C, C, A, G, A, G, A, G, G, C, C, T, C,...</td>\n",
       "    </tr>\n",
       "    <tr>\n",
       "      <th>1</th>\n",
       "      <td>ENSG00000000938</td>\n",
       "      <td>[(A, C, T, G, T, C, A, G, T, G, T, T, C, C, T,...</td>\n",
       "    </tr>\n",
       "    <tr>\n",
       "      <th>2</th>\n",
       "      <td>ENSG00000000971</td>\n",
       "      <td>[(G, A, T, T, G, T, A, C, A, T, G, A, A, A, G,...</td>\n",
       "    </tr>\n",
       "    <tr>\n",
       "      <th>3</th>\n",
       "      <td>ENSG00000001084</td>\n",
       "      <td>[(C, A, G, A, G, C, A, T, A, A, G, G, A, T, G,...</td>\n",
       "    </tr>\n",
       "    <tr>\n",
       "      <th>4</th>\n",
       "      <td>ENSG00000001167</td>\n",
       "      <td>[(a, t, g, c, t, t, t, a, t, a, c, a, t, g, t,...</td>\n",
       "    </tr>\n",
       "  </tbody>\n",
       "</table>\n",
       "</div>"
      ],
      "text/plain": [
       "       target_gene                                             lister\n",
       "0  ENSG00000000460  [(A, G, C, C, A, G, A, G, A, G, G, C, C, T, C,...\n",
       "1  ENSG00000000938  [(A, C, T, G, T, C, A, G, T, G, T, T, C, C, T,...\n",
       "2  ENSG00000000971  [(G, A, T, T, G, T, A, C, A, T, G, A, A, A, G,...\n",
       "3  ENSG00000001084  [(C, A, G, A, G, C, A, T, A, A, G, G, A, T, G,...\n",
       "4  ENSG00000001167  [(a, t, g, c, t, t, t, a, t, a, c, a, t, g, t,..."
      ]
     },
     "execution_count": 48,
     "metadata": {},
     "output_type": "execute_result"
    }
   ],
   "source": [
    "k.head()\n"
   ]
  },
  {
   "cell_type": "code",
   "execution_count": null,
   "id": "9fbd44ed",
   "metadata": {
    "pycharm": {
     "name": "#%%\n"
    }
   },
   "outputs": [],
   "source": []
  },
  {
   "cell_type": "code",
   "execution_count": 49,
   "id": "41df30f9",
   "metadata": {
    "pycharm": {
     "name": "#%%\n"
    }
   },
   "outputs": [
    {
     "ename": "ImportError",
     "evalue": "Unable to find a usable engine; tried using: 'pyarrow', 'fastparquet'.\nA suitable version of pyarrow or fastparquet is required for parquet support.\nTrying to import the above resulted in these errors:\n - Missing optional dependency 'pyarrow'. pyarrow is required for parquet support. Use pip or conda to install pyarrow.\n - Missing optional dependency 'fastparquet'. fastparquet is required for parquet support. Use pip or conda to install fastparquet.",
     "output_type": "error",
     "traceback": [
      "\u001b[0;31m---------------------------------------------------------------------------\u001b[0m",
      "\u001b[0;31mImportError\u001b[0m                               Traceback (most recent call last)",
      "Input \u001b[0;32mIn [49]\u001b[0m, in \u001b[0;36m<cell line: 1>\u001b[0;34m()\u001b[0m\n\u001b[0;32m----> 1\u001b[0m \u001b[43mk\u001b[49m\u001b[38;5;241;43m.\u001b[39;49m\u001b[43mto_parquet\u001b[49m\u001b[43m(\u001b[49m\u001b[38;5;124;43m'\u001b[39;49m\u001b[38;5;124;43mdf.parquet.gzip\u001b[39;49m\u001b[38;5;124;43m'\u001b[39;49m\u001b[43m,\u001b[49m\n\u001b[1;32m      2\u001b[0m \u001b[43m              \u001b[49m\u001b[43mcompression\u001b[49m\u001b[38;5;241;43m=\u001b[39;49m\u001b[38;5;124;43m'\u001b[39;49m\u001b[38;5;124;43mgzip\u001b[39;49m\u001b[38;5;124;43m'\u001b[39;49m\u001b[43m)\u001b[49m\n",
      "File \u001b[0;32m~/anaconda3/lib/python3.9/site-packages/pandas/util/_decorators.py:207\u001b[0m, in \u001b[0;36mdeprecate_kwarg.<locals>._deprecate_kwarg.<locals>.wrapper\u001b[0;34m(*args, **kwargs)\u001b[0m\n\u001b[1;32m    205\u001b[0m     \u001b[38;5;28;01melse\u001b[39;00m:\n\u001b[1;32m    206\u001b[0m         kwargs[new_arg_name] \u001b[38;5;241m=\u001b[39m new_arg_value\n\u001b[0;32m--> 207\u001b[0m \u001b[38;5;28;01mreturn\u001b[39;00m \u001b[43mfunc\u001b[49m\u001b[43m(\u001b[49m\u001b[38;5;241;43m*\u001b[39;49m\u001b[43margs\u001b[49m\u001b[43m,\u001b[49m\u001b[43m \u001b[49m\u001b[38;5;241;43m*\u001b[39;49m\u001b[38;5;241;43m*\u001b[39;49m\u001b[43mkwargs\u001b[49m\u001b[43m)\u001b[49m\n",
      "File \u001b[0;32m~/anaconda3/lib/python3.9/site-packages/pandas/core/frame.py:2835\u001b[0m, in \u001b[0;36mDataFrame.to_parquet\u001b[0;34m(self, path, engine, compression, index, partition_cols, storage_options, **kwargs)\u001b[0m\n\u001b[1;32m   2749\u001b[0m \u001b[38;5;124;03m\"\"\"\u001b[39;00m\n\u001b[1;32m   2750\u001b[0m \u001b[38;5;124;03mWrite a DataFrame to the binary parquet format.\u001b[39;00m\n\u001b[1;32m   2751\u001b[0m \n\u001b[0;32m   (...)\u001b[0m\n\u001b[1;32m   2831\u001b[0m \u001b[38;5;124;03m>>> content = f.read()\u001b[39;00m\n\u001b[1;32m   2832\u001b[0m \u001b[38;5;124;03m\"\"\"\u001b[39;00m\n\u001b[1;32m   2833\u001b[0m \u001b[38;5;28;01mfrom\u001b[39;00m \u001b[38;5;21;01mpandas\u001b[39;00m\u001b[38;5;21;01m.\u001b[39;00m\u001b[38;5;21;01mio\u001b[39;00m\u001b[38;5;21;01m.\u001b[39;00m\u001b[38;5;21;01mparquet\u001b[39;00m \u001b[38;5;28;01mimport\u001b[39;00m to_parquet\n\u001b[0;32m-> 2835\u001b[0m \u001b[38;5;28;01mreturn\u001b[39;00m \u001b[43mto_parquet\u001b[49m\u001b[43m(\u001b[49m\n\u001b[1;32m   2836\u001b[0m \u001b[43m    \u001b[49m\u001b[38;5;28;43mself\u001b[39;49m\u001b[43m,\u001b[49m\n\u001b[1;32m   2837\u001b[0m \u001b[43m    \u001b[49m\u001b[43mpath\u001b[49m\u001b[43m,\u001b[49m\n\u001b[1;32m   2838\u001b[0m \u001b[43m    \u001b[49m\u001b[43mengine\u001b[49m\u001b[43m,\u001b[49m\n\u001b[1;32m   2839\u001b[0m \u001b[43m    \u001b[49m\u001b[43mcompression\u001b[49m\u001b[38;5;241;43m=\u001b[39;49m\u001b[43mcompression\u001b[49m\u001b[43m,\u001b[49m\n\u001b[1;32m   2840\u001b[0m \u001b[43m    \u001b[49m\u001b[43mindex\u001b[49m\u001b[38;5;241;43m=\u001b[39;49m\u001b[43mindex\u001b[49m\u001b[43m,\u001b[49m\n\u001b[1;32m   2841\u001b[0m \u001b[43m    \u001b[49m\u001b[43mpartition_cols\u001b[49m\u001b[38;5;241;43m=\u001b[39;49m\u001b[43mpartition_cols\u001b[49m\u001b[43m,\u001b[49m\n\u001b[1;32m   2842\u001b[0m \u001b[43m    \u001b[49m\u001b[43mstorage_options\u001b[49m\u001b[38;5;241;43m=\u001b[39;49m\u001b[43mstorage_options\u001b[49m\u001b[43m,\u001b[49m\n\u001b[1;32m   2843\u001b[0m \u001b[43m    \u001b[49m\u001b[38;5;241;43m*\u001b[39;49m\u001b[38;5;241;43m*\u001b[39;49m\u001b[43mkwargs\u001b[49m\u001b[43m,\u001b[49m\n\u001b[1;32m   2844\u001b[0m \u001b[43m\u001b[49m\u001b[43m)\u001b[49m\n",
      "File \u001b[0;32m~/anaconda3/lib/python3.9/site-packages/pandas/io/parquet.py:416\u001b[0m, in \u001b[0;36mto_parquet\u001b[0;34m(df, path, engine, compression, index, storage_options, partition_cols, **kwargs)\u001b[0m\n\u001b[1;32m    414\u001b[0m \u001b[38;5;28;01mif\u001b[39;00m \u001b[38;5;28misinstance\u001b[39m(partition_cols, \u001b[38;5;28mstr\u001b[39m):\n\u001b[1;32m    415\u001b[0m     partition_cols \u001b[38;5;241m=\u001b[39m [partition_cols]\n\u001b[0;32m--> 416\u001b[0m impl \u001b[38;5;241m=\u001b[39m \u001b[43mget_engine\u001b[49m\u001b[43m(\u001b[49m\u001b[43mengine\u001b[49m\u001b[43m)\u001b[49m\n\u001b[1;32m    418\u001b[0m path_or_buf: FilePath \u001b[38;5;241m|\u001b[39m WriteBuffer[\u001b[38;5;28mbytes\u001b[39m] \u001b[38;5;241m=\u001b[39m io\u001b[38;5;241m.\u001b[39mBytesIO() \u001b[38;5;28;01mif\u001b[39;00m path \u001b[38;5;129;01mis\u001b[39;00m \u001b[38;5;28;01mNone\u001b[39;00m \u001b[38;5;28;01melse\u001b[39;00m path\n\u001b[1;32m    420\u001b[0m impl\u001b[38;5;241m.\u001b[39mwrite(\n\u001b[1;32m    421\u001b[0m     df,\n\u001b[1;32m    422\u001b[0m     path_or_buf,\n\u001b[0;32m   (...)\u001b[0m\n\u001b[1;32m    427\u001b[0m     \u001b[38;5;241m*\u001b[39m\u001b[38;5;241m*\u001b[39mkwargs,\n\u001b[1;32m    428\u001b[0m )\n",
      "File \u001b[0;32m~/anaconda3/lib/python3.9/site-packages/pandas/io/parquet.py:52\u001b[0m, in \u001b[0;36mget_engine\u001b[0;34m(engine)\u001b[0m\n\u001b[1;32m     49\u001b[0m         \u001b[38;5;28;01mexcept\u001b[39;00m \u001b[38;5;167;01mImportError\u001b[39;00m \u001b[38;5;28;01mas\u001b[39;00m err:\n\u001b[1;32m     50\u001b[0m             error_msgs \u001b[38;5;241m+\u001b[39m\u001b[38;5;241m=\u001b[39m \u001b[38;5;124m\"\u001b[39m\u001b[38;5;130;01m\\n\u001b[39;00m\u001b[38;5;124m - \u001b[39m\u001b[38;5;124m\"\u001b[39m \u001b[38;5;241m+\u001b[39m \u001b[38;5;28mstr\u001b[39m(err)\n\u001b[0;32m---> 52\u001b[0m     \u001b[38;5;28;01mraise\u001b[39;00m \u001b[38;5;167;01mImportError\u001b[39;00m(\n\u001b[1;32m     53\u001b[0m         \u001b[38;5;124m\"\u001b[39m\u001b[38;5;124mUnable to find a usable engine; \u001b[39m\u001b[38;5;124m\"\u001b[39m\n\u001b[1;32m     54\u001b[0m         \u001b[38;5;124m\"\u001b[39m\u001b[38;5;124mtried using: \u001b[39m\u001b[38;5;124m'\u001b[39m\u001b[38;5;124mpyarrow\u001b[39m\u001b[38;5;124m'\u001b[39m\u001b[38;5;124m, \u001b[39m\u001b[38;5;124m'\u001b[39m\u001b[38;5;124mfastparquet\u001b[39m\u001b[38;5;124m'\u001b[39m\u001b[38;5;124m.\u001b[39m\u001b[38;5;130;01m\\n\u001b[39;00m\u001b[38;5;124m\"\u001b[39m\n\u001b[1;32m     55\u001b[0m         \u001b[38;5;124m\"\u001b[39m\u001b[38;5;124mA suitable version of \u001b[39m\u001b[38;5;124m\"\u001b[39m\n\u001b[1;32m     56\u001b[0m         \u001b[38;5;124m\"\u001b[39m\u001b[38;5;124mpyarrow or fastparquet is required for parquet \u001b[39m\u001b[38;5;124m\"\u001b[39m\n\u001b[1;32m     57\u001b[0m         \u001b[38;5;124m\"\u001b[39m\u001b[38;5;124msupport.\u001b[39m\u001b[38;5;130;01m\\n\u001b[39;00m\u001b[38;5;124m\"\u001b[39m\n\u001b[1;32m     58\u001b[0m         \u001b[38;5;124m\"\u001b[39m\u001b[38;5;124mTrying to import the above resulted in these errors:\u001b[39m\u001b[38;5;124m\"\u001b[39m\n\u001b[1;32m     59\u001b[0m         \u001b[38;5;124mf\u001b[39m\u001b[38;5;124m\"\u001b[39m\u001b[38;5;132;01m{\u001b[39;00merror_msgs\u001b[38;5;132;01m}\u001b[39;00m\u001b[38;5;124m\"\u001b[39m\n\u001b[1;32m     60\u001b[0m     )\n\u001b[1;32m     62\u001b[0m \u001b[38;5;28;01mif\u001b[39;00m engine \u001b[38;5;241m==\u001b[39m \u001b[38;5;124m\"\u001b[39m\u001b[38;5;124mpyarrow\u001b[39m\u001b[38;5;124m\"\u001b[39m:\n\u001b[1;32m     63\u001b[0m     \u001b[38;5;28;01mreturn\u001b[39;00m PyArrowImpl()\n",
      "\u001b[0;31mImportError\u001b[0m: Unable to find a usable engine; tried using: 'pyarrow', 'fastparquet'.\nA suitable version of pyarrow or fastparquet is required for parquet support.\nTrying to import the above resulted in these errors:\n - Missing optional dependency 'pyarrow'. pyarrow is required for parquet support. Use pip or conda to install pyarrow.\n - Missing optional dependency 'fastparquet'. fastparquet is required for parquet support. Use pip or conda to install fastparquet."
     ]
    }
   ],
   "source": [
    "k.to_parquet('df.parquet.gzip',\n",
    "              compression='gzip')  "
   ]
  },
  {
   "cell_type": "code",
   "execution_count": null,
   "id": "56ad8cba",
   "metadata": {
    "pycharm": {
     "name": "#%%\n"
    }
   },
   "outputs": [],
   "source": [
    "# ddf = from_pandas(p, npartitions=3)"
   ]
  },
  {
   "cell_type": "code",
   "execution_count": 50,
   "id": "b783b025",
   "metadata": {
    "pycharm": {
     "name": "#%%\n"
    }
   },
   "outputs": [],
   "source": [
    "\n",
    "ddf = p"
   ]
  },
  {
   "cell_type": "code",
   "execution_count": 51,
   "id": "bf1bd6c3",
   "metadata": {
    "pycharm": {
     "name": "#%%\n"
    }
   },
   "outputs": [
    {
     "data": {
      "text/html": [
       "<div>\n",
       "<style scoped>\n",
       "    .dataframe tbody tr th:only-of-type {\n",
       "        vertical-align: middle;\n",
       "    }\n",
       "\n",
       "    .dataframe tbody tr th {\n",
       "        vertical-align: top;\n",
       "    }\n",
       "\n",
       "    .dataframe thead th {\n",
       "        text-align: right;\n",
       "    }\n",
       "</style>\n",
       "<table border=\"1\" class=\"dataframe\">\n",
       "  <thead>\n",
       "    <tr style=\"text-align: right;\">\n",
       "      <th></th>\n",
       "      <th>startEnd</th>\n",
       "      <th>lister</th>\n",
       "      <th>target_gene</th>\n",
       "    </tr>\n",
       "  </thead>\n",
       "  <tbody>\n",
       "    <tr>\n",
       "      <th>0</th>\n",
       "      <td>chr12:12234857-12235410</td>\n",
       "      <td>(A, A, T, T, A, G, T, C, A, A, G, A, G, G, T, ...</td>\n",
       "      <td>ENSG00000111266</td>\n",
       "    </tr>\n",
       "    <tr>\n",
       "      <th>1</th>\n",
       "      <td>chr12:12234857-12235410</td>\n",
       "      <td>(A, A, T, T, A, G, T, C, A, A, G, A, G, G, T, ...</td>\n",
       "      <td>ENSG00000165714</td>\n",
       "    </tr>\n",
       "    <tr>\n",
       "      <th>2</th>\n",
       "      <td>chr12:12234857-12235410</td>\n",
       "      <td>(A, A, T, T, A, G, T, C, A, A, G, A, G, G, T, ...</td>\n",
       "      <td>ENSG00000111269</td>\n",
       "    </tr>\n",
       "    <tr>\n",
       "      <th>3</th>\n",
       "      <td>chr12:12234857-12235410</td>\n",
       "      <td>(A, A, T, T, A, G, T, C, A, A, G, A, G, G, T, ...</td>\n",
       "      <td>ENSG00000183150</td>\n",
       "    </tr>\n",
       "    <tr>\n",
       "      <th>4</th>\n",
       "      <td>chr12:12234857-12235410</td>\n",
       "      <td>(A, A, T, T, A, G, T, C, A, A, G, A, G, G, T, ...</td>\n",
       "      <td>ENSG00000111261</td>\n",
       "    </tr>\n",
       "  </tbody>\n",
       "</table>\n",
       "</div>"
      ],
      "text/plain": [
       "                  startEnd                                             lister  \\\n",
       "0  chr12:12234857-12235410  (A, A, T, T, A, G, T, C, A, A, G, A, G, G, T, ...   \n",
       "1  chr12:12234857-12235410  (A, A, T, T, A, G, T, C, A, A, G, A, G, G, T, ...   \n",
       "2  chr12:12234857-12235410  (A, A, T, T, A, G, T, C, A, A, G, A, G, G, T, ...   \n",
       "3  chr12:12234857-12235410  (A, A, T, T, A, G, T, C, A, A, G, A, G, G, T, ...   \n",
       "4  chr12:12234857-12235410  (A, A, T, T, A, G, T, C, A, A, G, A, G, G, T, ...   \n",
       "\n",
       "       target_gene  \n",
       "0  ENSG00000111266  \n",
       "1  ENSG00000165714  \n",
       "2  ENSG00000111269  \n",
       "3  ENSG00000183150  \n",
       "4  ENSG00000111261  "
      ]
     },
     "execution_count": 51,
     "metadata": {},
     "output_type": "execute_result"
    }
   ],
   "source": [
    "\n",
    "ddf.head()"
   ]
  },
  {
   "cell_type": "code",
   "execution_count": 52,
   "id": "81ce03f1",
   "metadata": {
    "pycharm": {
     "name": "#%%\n"
    },
    "scrolled": true
   },
   "outputs": [],
   "source": [
    "def getKmers(dd,k):\n",
    "    kmers = str(dd.lister).upper()\n",
    "    pattern = {}\n",
    "    for i in range(0,len(kmers)-k+1):\n",
    "        p = kmers[i:i+k]\n",
    "        if(p in pattern):\n",
    "            pattern[p] = pattern[p]+1\n",
    "        else:\n",
    "            pattern[p] = 1\n",
    "    return pattern\n"
   ]
  },
  {
   "cell_type": "code",
   "execution_count": 53,
   "id": "89b8ce29",
   "metadata": {
    "pycharm": {
     "name": "#%%\n"
    }
   },
   "outputs": [],
   "source": [
    "\n",
    "# from multiprocessing import Pool\n",
    "# with Pool(10) as pool:\n",
    "ddf['kmer4'] = p.apply(getKmers, args=(4,),axis=1)\n",
    "#     pool.close()\n",
    "#     pool.join()\n"
   ]
  },
  {
   "cell_type": "code",
   "execution_count": 54,
   "id": "d76a9e02",
   "metadata": {
    "pycharm": {
     "name": "#%%\n"
    }
   },
   "outputs": [],
   "source": [
    "ddf['kmer5'] = p.apply(getKmers, args=(5,),axis=1)\n",
    "\n",
    "ddf['kmer6'] = p.apply(getKmers, args=(6,),axis=1)\n",
    "ddf['kmer7'] = p.apply(getKmers, args=(7,),axis=1)\n",
    "\n",
    "ddf['kmer8'] = p.apply(getKmers, args=(8,),axis=1)\n"
   ]
  },
  {
   "cell_type": "code",
   "execution_count": null,
   "id": "5516c2fb",
   "metadata": {
    "pycharm": {
     "name": "#%%\n"
    }
   },
   "outputs": [],
   "source": []
  },
  {
   "cell_type": "code",
   "execution_count": null,
   "id": "e4ebaf36",
   "metadata": {},
   "outputs": [],
   "source": []
  },
  {
   "cell_type": "code",
   "execution_count": null,
   "id": "55a498fa",
   "metadata": {},
   "outputs": [],
   "source": []
  },
  {
   "cell_type": "code",
   "execution_count": null,
   "id": "55c0800e",
   "metadata": {
    "pycharm": {
     "name": "#%%\n"
    }
   },
   "outputs": [],
   "source": [
    "\n",
    "with Pool(10) as pool:\n",
    "    ddf['kmer6'] = pool.starmap(getKmers6, zip(ddf['lister']))\n",
    "    pool.close()\n",
    "    pool.join()\n"
   ]
  },
  {
   "cell_type": "code",
   "execution_count": null,
   "id": "9dea0596",
   "metadata": {},
   "outputs": [],
   "source": []
  },
  {
   "cell_type": "code",
   "execution_count": null,
   "id": "62243e1d",
   "metadata": {
    "pycharm": {
     "name": "#%%\n"
    }
   },
   "outputs": [],
   "source": [
    "\n",
    "with Pool(10) as pool:\n",
    "    ddf['kmer7'] = pool.starmap(getKmers7, zip(ddf['lister']))\n",
    "    pool.close()\n",
    "    pool.join()\n"
   ]
  },
  {
   "cell_type": "code",
   "execution_count": null,
   "id": "510051c1",
   "metadata": {
    "pycharm": {
     "name": "#%%\n"
    }
   },
   "outputs": [],
   "source": [
    "\n",
    "with Pool(10) as pool:\n",
    "    ddf['kmer8'] = pool.starmap(getKmers8, zip(ddf['lister']))\n",
    "    pool.close()\n",
    "    pool.join()\n"
   ]
  },
  {
   "cell_type": "code",
   "execution_count": null,
   "id": "1afbe330",
   "metadata": {
    "pycharm": {
     "name": "#%%\n"
    }
   },
   "outputs": [],
   "source": [
    "\n",
    "with Pool(10) as pool:\n",
    "    ddf['kmer9'] = pool.starmap(getKmers9, zip(ddf['lister']))\n",
    "    pool.close()\n",
    "    pool.join()"
   ]
  },
  {
   "cell_type": "code",
   "execution_count": null,
   "id": "235b96e4",
   "metadata": {
    "pycharm": {
     "name": "#%%\n"
    },
    "scrolled": true
   },
   "outputs": [],
   "source": [
    "\n",
    "print(ddf.head())\n",
    "ddf.to_csv('out.csv')"
   ]
  },
  {
   "cell_type": "code",
   "execution_count": null,
   "id": "291a2124",
   "metadata": {
    "pycharm": {
     "name": "#%%\n"
    }
   },
   "outputs": [],
   "source": [
    "ddf.head()"
   ]
  },
  {
   "cell_type": "code",
   "execution_count": null,
   "id": "1e3fe24c",
   "metadata": {
    "pycharm": {
     "name": "#%%\n"
    }
   },
   "outputs": [],
   "source": [
    "aa = ddf.groupby('target_gene')['kmer4'].agg(list).reset_index()\n",
    "bb = ddf.groupby('target_gene')['kmer5'].agg(list).reset_index()\n",
    "cc = ddf.groupby('target_gene')['kmer6'].agg(list).reset_index()\n",
    "dd = ddf.groupby('target_gene')['kmer7'].agg(list).reset_index()\n",
    "ee = ddf.groupby('target_gene')['kmer8'].agg(list).reset_index()\n",
    "ff = ddf.groupby('target_gene')['kmer9'].agg(list).reset_index()\n"
   ]
  },
  {
   "cell_type": "code",
   "execution_count": null,
   "id": "793d9a90",
   "metadata": {
    "pycharm": {
     "name": "#%%\n"
    }
   },
   "outputs": [],
   "source": [
    "import json,re\n",
    "import ast"
   ]
  },
  {
   "cell_type": "code",
   "execution_count": null,
   "id": "294938b6",
   "metadata": {
    "pycharm": {
     "name": "#%%\n"
    }
   },
   "outputs": [],
   "source": [
    "a = set.intersection(*map(set, aa.iloc[0]['kmer4']))"
   ]
  },
  {
   "cell_type": "code",
   "execution_count": null,
   "id": "ccf1472b",
   "metadata": {
    "pycharm": {
     "name": "#%%\n"
    }
   },
   "outputs": [],
   "source": [
    "print(a)"
   ]
  },
  {
   "cell_type": "code",
   "execution_count": null,
   "id": "a3a80df0",
   "metadata": {
    "pycharm": {
     "name": "#%%\n"
    }
   },
   "outputs": [],
   "source": [
    "def kmer4(aab,kmer):\n",
    "    my_dict = aab[kmer]\n",
    "    common_keys = set.intersection(*map(set,my_dict))\n",
    "    return common_keys\n",
    "    "
   ]
  },
  {
   "cell_type": "code",
   "execution_count": null,
   "id": "c93360b5",
   "metadata": {
    "pycharm": {
     "name": "#%%\n"
    }
   },
   "outputs": [],
   "source": [
    "def size_getter(km,a):\n",
    "    return len(km[a])"
   ]
  },
  {
   "cell_type": "code",
   "execution_count": null,
   "id": "3dab2052",
   "metadata": {
    "pycharm": {
     "name": "#%%\n"
    }
   },
   "outputs": [],
   "source": [
    "ff['common_keys'] = ff.apply(kmer4,args=('kmer9',),axis=1)\n",
    "ff['common_keys_size'] = ff.apply(size_getter,args=('common_keys',),axis=1)\n",
    "ff['size'] = ff.apply(size_getter,args=('kmer9',),axis=1)"
   ]
  },
  {
   "cell_type": "code",
   "execution_count": null,
   "id": "fb6c6575",
   "metadata": {
    "pycharm": {
     "name": "#%%\n"
    }
   },
   "outputs": [],
   "source": [
    "ee['common_keys'] = ee.apply(kmer4,args=('kmer8',),axis=1)\n",
    "ee['common_keys_size'] = ee.apply(size_getter,args=('common_keys',),axis=1)\n",
    "ee['size'] = ee.apply(size_getter,args=('kmer8',),axis=1)"
   ]
  },
  {
   "cell_type": "code",
   "execution_count": null,
   "id": "c2ada51f",
   "metadata": {
    "pycharm": {
     "name": "#%%\n"
    }
   },
   "outputs": [],
   "source": [
    "dd['common_keys'] = dd.apply(kmer4,args=('kmer7',),axis=1)\n",
    "dd['common_keys_size'] = dd.apply(size_getter,args=('common_keys',),axis=1)\n",
    "dd['size'] = dd.apply(size_getter,args=('kmer7',),axis=1)"
   ]
  },
  {
   "cell_type": "code",
   "execution_count": null,
   "id": "718125ac",
   "metadata": {
    "pycharm": {
     "name": "#%%\n"
    }
   },
   "outputs": [],
   "source": [
    "cc['common_keys'] = cc.apply(kmer4,args=('kmer6',),axis=1)\n",
    "cc['common_keys_size'] = cc.apply(size_getter,args=('common_keys',),axis=1)\n",
    "cc['size'] = cc.apply(size_getter,args=('kmer6',),axis=1)"
   ]
  },
  {
   "cell_type": "code",
   "execution_count": null,
   "id": "b29acb30",
   "metadata": {
    "pycharm": {
     "name": "#%%\n"
    }
   },
   "outputs": [],
   "source": [
    "bb['common_keys'] = bb.apply(kmer4,args=('kmer5',),axis=1)\n",
    "bb['common_keys_size'] = bb.apply(size_getter,args=('common_keys',),axis=1)\n",
    "bb['size'] = bb.apply(size_getter,args=('kmer5',),axis=1)"
   ]
  },
  {
   "cell_type": "code",
   "execution_count": null,
   "id": "d5ba506d",
   "metadata": {
    "pycharm": {
     "name": "#%%\n"
    }
   },
   "outputs": [],
   "source": [
    "aa['common_keys'] = aa.apply(kmer4,args=('kmer4',),axis=1)\n",
    "aa['common_keys_size'] = aa.apply(size_getter,args=('common_keys',),axis=1)\n",
    "aa['size'] = aa.apply(size_getter,args=('kmer4',),axis=1)\n",
    "aa[aa['size'] > 1]"
   ]
  },
  {
   "cell_type": "code",
   "execution_count": null,
   "id": "897d2d27",
   "metadata": {
    "pycharm": {
     "name": "#%%\n"
    }
   },
   "outputs": [],
   "source": [
    "bb = bb[bb['size'] > 1]\n",
    "aa = aa[aa['size'] > 1]\n",
    "cc = cc[cc['size'] > 1]\n",
    "dd = dd[dd['size'] > 1]\n",
    "ee = ee[ee['size'] > 1]\n",
    "ff = ff[ff['size'] > 1]"
   ]
  },
  {
   "cell_type": "code",
   "execution_count": null,
   "id": "39d015e6",
   "metadata": {
    "pycharm": {
     "name": "#%%\n"
    },
    "scrolled": true
   },
   "outputs": [],
   "source": [
    "aa.head()"
   ]
  },
  {
   "cell_type": "code",
   "execution_count": null,
   "id": "6d273c61",
   "metadata": {
    "pycharm": {
     "name": "#%%\n"
    }
   },
   "outputs": [],
   "source": [
    "# aa.head()"
   ]
  },
  {
   "cell_type": "code",
   "execution_count": null,
   "id": "a220c82b",
   "metadata": {
    "pycharm": {
     "name": "#%%\n"
    }
   },
   "outputs": [],
   "source": [
    "# json_object = json.dumps(d, indent = 4) \n"
   ]
  },
  {
   "cell_type": "code",
   "execution_count": null,
   "id": "71016915",
   "metadata": {
    "pycharm": {
     "name": "#%%\n"
    }
   },
   "outputs": [],
   "source": [
    "arr1 = k[\"target_gene\"].unique()"
   ]
  },
  {
   "cell_type": "code",
   "execution_count": null,
   "id": "74091344",
   "metadata": {
    "pycharm": {
     "name": "#%%\n"
    }
   },
   "outputs": [],
   "source": [
    "import seaborn as sns"
   ]
  },
  {
   "cell_type": "code",
   "execution_count": null,
   "id": "d83f4235",
   "metadata": {
    "pycharm": {
     "name": "#%%\n"
    },
    "scrolled": true
   },
   "outputs": [],
   "source": [
    "sns.scatterplot(x=\"size\", y=\"common_keys_size\", data=aa);\n"
   ]
  },
  {
   "cell_type": "code",
   "execution_count": null,
   "id": "9c0d76fb",
   "metadata": {
    "pycharm": {
     "name": "#%%\n"
    },
    "scrolled": true
   },
   "outputs": [],
   "source": [
    "sns.scatterplot(x=\"size\", y=\"common_keys_size\", data=bb);"
   ]
  },
  {
   "cell_type": "code",
   "execution_count": null,
   "id": "bbe94d6c",
   "metadata": {
    "pycharm": {
     "name": "#%%\n"
    }
   },
   "outputs": [],
   "source": [
    "sns.scatterplot(x=\"size\", y=\"common_keys_size\", data=cc);"
   ]
  },
  {
   "cell_type": "code",
   "execution_count": null,
   "id": "ab84a5e1",
   "metadata": {
    "pycharm": {
     "name": "#%%\n"
    }
   },
   "outputs": [],
   "source": [
    "sns.scatterplot(x=\"size\", y=\"common_keys_size\", data=dd);"
   ]
  },
  {
   "cell_type": "code",
   "execution_count": null,
   "id": "bb09fe90",
   "metadata": {
    "pycharm": {
     "name": "#%%\n"
    }
   },
   "outputs": [],
   "source": [
    "sns.scatterplot(x=\"size\", y=\"common_keys_size\", data=ee);"
   ]
  },
  {
   "cell_type": "code",
   "execution_count": null,
   "id": "82bd5bef",
   "metadata": {
    "pycharm": {
     "name": "#%%\n"
    }
   },
   "outputs": [],
   "source": [
    "sns.scatterplot(x=\"size\", y=\"common_keys_size\", data=ff);"
   ]
  },
  {
   "cell_type": "code",
   "execution_count": null,
   "id": "d985e6df",
   "metadata": {
    "pycharm": {
     "name": "#%%\n"
    }
   },
   "outputs": [],
   "source": [
    "k.head()"
   ]
  },
  {
   "cell_type": "code",
   "execution_count": null,
   "id": "0c29b0ad",
   "metadata": {
    "pycharm": {
     "name": "#%%\n"
    }
   },
   "outputs": [],
   "source": [
    "k['size'] = k.apply(size_getter,args=('lister',),axis=1)"
   ]
  },
  {
   "cell_type": "code",
   "execution_count": null,
   "id": "f05d7a39",
   "metadata": {
    "pycharm": {
     "name": "#%%\n"
    }
   },
   "outputs": [],
   "source": [
    "df_2 = k[k['size'] ==2]"
   ]
  },
  {
   "cell_type": "code",
   "execution_count": null,
   "id": "3416964e",
   "metadata": {
    "pycharm": {
     "name": "#%%\n"
    }
   },
   "outputs": [],
   "source": [
    "b"
   ]
  },
  {
   "cell_type": "code",
   "execution_count": null,
   "id": "478f53ba",
   "metadata": {
    "pycharm": {
     "name": "#%%\n"
    }
   },
   "outputs": [],
   "source": [
    "def globalAlign(k):\n",
    "    a =  k['lister'][0].seq\n",
    "    b = k['lister'][1].seq\n",
    "    avg = len(a)+len(b)/2\n",
    "    for k in pairwise2.align.globalms(a, b,2, -1, -.5, -.1):\n",
    "        al1,al2, score, begin, end = k\n",
    "    return score,avg\n",
    "   \n",
    "    "
   ]
  },
  {
   "cell_type": "code",
   "execution_count": null,
   "id": "992d2a35",
   "metadata": {
    "pycharm": {
     "name": "#%%\n"
    }
   },
   "outputs": [],
   "source": [
    " df_2[[\"score\", \"avg\"]] = df_2.apply(globalAlign, axis=1, result_type=\"expand\")"
   ]
  },
  {
   "cell_type": "code",
   "execution_count": null,
   "id": "79027e0d",
   "metadata": {
    "pycharm": {
     "name": "#%%\n"
    }
   },
   "outputs": [],
   "source": [
    "df_2"
   ]
  },
  {
   "cell_type": "code",
   "execution_count": null,
   "id": "de811e25",
   "metadata": {
    "pycharm": {
     "name": "#%%\n"
    },
    "scrolled": true
   },
   "outputs": [],
   "source": [
    "# arr = df_2[\"name\"].unique()\n",
    "# print(arr)"
   ]
  },
  {
   "cell_type": "code",
   "execution_count": null,
   "id": "68f2fd9c",
   "metadata": {
    "pycharm": {
     "name": "#%%\n"
    }
   },
   "outputs": [],
   "source": [
    "from Bio import pairwise2\n",
    "from Bio.pairwise2 import format_alignment"
   ]
  },
  {
   "cell_type": "code",
   "execution_count": null,
   "id": "bdca8751",
   "metadata": {
    "pycharm": {
     "name": "#%%\n"
    }
   },
   "outputs": [],
   "source": [
    "# df_align = pd.DataFrame(columns = [\"name\", \"score\",\"gene\",\"avg\"])\n",
    "# t = 0\n",
    "# for j in range(0,len(arr)):\n",
    "#     print(arr[j])\n",
    "#     temp = df_2[df_2['name'] ==arr[j]]['gene'].reset_index()\n",
    "#     a =  temp.iloc[0][1][0].seq\n",
    "#     b = temp.iloc[0][1][1].seq\n",
    "#     avg = len(a)+len(b)/2\n",
    "#     for k in pairwise2.align.globalms(a, b,2, -1, -.5, -.1):\n",
    "#         al1,al2, score, begin, end = k\n",
    "#     print(score)\n",
    "#     df_align.loc[len(df_align.index)] = [arr[j],score,[a,b],avg] \n",
    "    \n",
    "    \n",
    "\n",
    "    \n",
    "    \n",
    "    \n",
    "    "
   ]
  },
  {
   "cell_type": "code",
   "execution_count": null,
   "id": "13bf6674",
   "metadata": {
    "pycharm": {
     "name": "#%%\n"
    },
    "scrolled": true
   },
   "outputs": [],
   "source": [
    "# df_align.head()"
   ]
  },
  {
   "cell_type": "code",
   "execution_count": null,
   "id": "5f3e36c1",
   "metadata": {
    "pycharm": {
     "name": "#%%\n"
    },
    "scrolled": true
   },
   "outputs": [],
   "source": [
    "sns.scatterplot(x=\"avg\", y=\"score\", data=df_2);"
   ]
  },
  {
   "cell_type": "code",
   "execution_count": null,
   "id": "d52dbaaa",
   "metadata": {
    "pycharm": {
     "name": "#%%\n"
    }
   },
   "outputs": [],
   "source": [
    "# df_align_local = pd.DataFrame(columns = [\"name\", \"score\",\"gene\",\"avg\"])\n",
    "# t = 0\n",
    "# for j in range(0,len(arr)):\n",
    "#     print(arr[j])\n",
    "#     temp = df_2[df_2['name'] ==arr[j]]['gene'].reset_index()\n",
    "#     a =  temp.iloc[0][1][0].seq\n",
    "#     b = temp.iloc[0][1][1].seq\n",
    "#     avg = len(a)+len(b)/2\n",
    "#     for k in pairwise2.align.localms(a, b,2, -1, -.5, -.1):\n",
    "#         al1,al2, score, begin, end = k\n",
    "#     print(score)\n",
    "#     df_align_local.loc[len(df_align_local.index)] = [arr[j],score,[a,b],avg] "
   ]
  },
  {
   "cell_type": "code",
   "execution_count": null,
   "id": "f9399e09",
   "metadata": {
    "pycharm": {
     "name": "#%%\n"
    }
   },
   "outputs": [],
   "source": [
    "from Bio.Align import MultipleSeqAlignment"
   ]
  },
  {
   "cell_type": "code",
   "execution_count": null,
   "id": "da3686fd",
   "metadata": {
    "pycharm": {
     "name": "#%%\n"
    }
   },
   "outputs": [],
   "source": [
    "from Bio.Align.Applications import ClustalwCommandline"
   ]
  },
  {
   "cell_type": "code",
   "execution_count": null,
   "id": "f74197d3",
   "metadata": {
    "pycharm": {
     "name": "#%%\n"
    }
   },
   "outputs": [],
   "source": [
    "# import tempfile\n",
    "\n",
    "# tmp = tempfile.NamedTemporaryFile()\n",
    "\n",
    "# # Open the file for writing.\n",
    "# with open(tmp.name, 'w') as f:\n",
    "#     f.write(str(df_10.iloc[2].gene)) "
   ]
  },
  {
   "cell_type": "code",
   "execution_count": null,
   "id": "b65dcfef",
   "metadata": {
    "pycharm": {
     "name": "#%%\n"
    }
   },
   "outputs": [],
   "source": [
    "in_file = \"tmp.name\""
   ]
  },
  {
   "cell_type": "code",
   "execution_count": null,
   "id": "2e6eb012",
   "metadata": {
    "pycharm": {
     "name": "#%%\n"
    }
   },
   "outputs": [],
   "source": [
    "# from Bio.Align.Applications import ClustalwCommandline\n",
    "# clustal=\"./clustalo\"\n",
    "# cline = ClustalwCommandline(clustal, infile=tmp.name, outfile=\"opuntia1.aln\")\n",
    "# print(cline)"
   ]
  },
  {
   "cell_type": "code",
   "execution_count": null,
   "id": "3c996e34",
   "metadata": {
    "pycharm": {
     "name": "#%%\n"
    }
   },
   "outputs": [],
   "source": [
    "# stdout, stderr = cline()"
   ]
  },
  {
   "cell_type": "code",
   "execution_count": null,
   "id": "d64ae2ce",
   "metadata": {
    "pycharm": {
     "name": "#%%\n"
    },
    "scrolled": true
   },
   "outputs": [],
   "source": [
    "\n",
    "# from Bio import AlignIO\n",
    "# clustal=\"clustalo\"\n",
    "# align = AlignIO.read(\"opuntia1.aln\", clustal)\n",
    "# print(align)"
   ]
  },
  {
   "cell_type": "code",
   "execution_count": null,
   "id": "1981d6b4",
   "metadata": {
    "pycharm": {
     "name": "#%%\n"
    }
   },
   "outputs": [],
   "source": [
    "# from clustalo import clustalo\n"
   ]
  },
  {
   "cell_type": "code",
   "execution_count": null,
   "id": "59824f36",
   "metadata": {
    "pycharm": {
     "name": "#%%\n"
    },
    "scrolled": true
   },
   "outputs": [],
   "source": [
    "aa.head()"
   ]
  },
  {
   "cell_type": "code",
   "execution_count": null,
   "id": "f0245a32",
   "metadata": {
    "pycharm": {
     "name": "#%%\n"
    }
   },
   "outputs": [],
   "source": [
    "from collections import Counter\n",
    "from itertools import chain\n",
    "\n",
    "\n",
    "def getallCols(aa,col):\n",
    "    test_list = aa[col]\n",
    "    p=[]\n",
    "    for i in test_list:\n",
    "        a = list(i.keys())\n",
    "        p.append(a)\n",
    "    c = dict(Counter(chain(*[x for x in p])))\n",
    "    c = {k: v for k, v in sorted(c.items(), key=lambda item: item[1],reverse=True)}\n",
    "    values = c.values()\n",
    "    total = sum(values)\n",
    "    total = total/len(c)\n",
    "    filtered = dict(filter(lambda c:c[1]>1, c.items() ) )\n",
    "    return c,list(c.values())[0],total,len(filtered)\n",
    "    \n",
    "\n"
   ]
  },
  {
   "cell_type": "code",
   "execution_count": null,
   "id": "a2fa9f3a",
   "metadata": {
    "pycharm": {
     "name": "#%%\n"
    }
   },
   "outputs": [],
   "source": [
    "aa[['max','num','mean','atleastTwo']] = aa.apply(getallCols,args=('kmer4',),axis=1, result_type=\"expand\")"
   ]
  },
  {
   "cell_type": "code",
   "execution_count": null,
   "id": "2b381d34",
   "metadata": {
    "pycharm": {
     "name": "#%%\n"
    }
   },
   "outputs": [],
   "source": [
    "bb[['max','num','mean','atleastTwo']] = bb.apply(getallCols,args=('kmer5',),axis=1, result_type=\"expand\")"
   ]
  },
  {
   "cell_type": "code",
   "execution_count": null,
   "id": "2305a924",
   "metadata": {
    "pycharm": {
     "name": "#%%\n"
    }
   },
   "outputs": [],
   "source": [
    "cc[['max','num','mean','atleastTwo']] = cc.apply(getallCols,args=('kmer6',),axis=1, result_type=\"expand\")"
   ]
  },
  {
   "cell_type": "code",
   "execution_count": null,
   "id": "e5beb4df",
   "metadata": {
    "pycharm": {
     "name": "#%%\n"
    }
   },
   "outputs": [],
   "source": [
    "dd[['max','num','mean','atleastTwo']] = dd.apply(getallCols,args=('kmer7',),axis=1, result_type=\"expand\")"
   ]
  },
  {
   "cell_type": "code",
   "execution_count": null,
   "id": "2a99bf2a",
   "metadata": {
    "pycharm": {
     "name": "#%%\n"
    }
   },
   "outputs": [],
   "source": [
    "ee[['max','num','mean','atleastTwo']] = ee.apply(getallCols,args=('kmer8',),axis=1, result_type=\"expand\")"
   ]
  },
  {
   "cell_type": "code",
   "execution_count": null,
   "id": "060f90e2",
   "metadata": {
    "pycharm": {
     "name": "#%%\n"
    }
   },
   "outputs": [],
   "source": [
    "ff[['max','num','mean','atleastTwo']] = ff.apply(getallCols,args=('kmer9',),axis=1, result_type=\"expand\")"
   ]
  },
  {
   "cell_type": "code",
   "execution_count": null,
   "id": "9586e471",
   "metadata": {
    "pycharm": {
     "name": "#%%\n"
    }
   },
   "outputs": [],
   "source": [
    "aa.to_csv('kmer4.csv')\n",
    "bb.to_csv('kmer5.csv')\n",
    "cc.to_csv('kmer6.csv')\n",
    "dd.to_csv('kmer7.csv')\n",
    "ee.to_csv('kmer8.csv')\n",
    "ff.to_csv('kmer9.csv')\n"
   ]
  },
  {
   "cell_type": "markdown",
   "id": "b191d98b",
   "metadata": {
    "pycharm": {
     "name": "#%% md\n"
    }
   },
   "source": [
    "num is frequency of maximum repeated kmer"
   ]
  },
  {
   "cell_type": "code",
   "execution_count": null,
   "id": "aae96164",
   "metadata": {
    "pycharm": {
     "name": "#%%\n"
    },
    "scrolled": false
   },
   "outputs": [],
   "source": [
    "sns.scatterplot(x=\"size\", y=\"num\", data=aa);"
   ]
  },
  {
   "cell_type": "code",
   "execution_count": null,
   "id": "cb586924",
   "metadata": {
    "pycharm": {
     "name": "#%%\n"
    }
   },
   "outputs": [],
   "source": [
    "sns.scatterplot(x=\"size\", y=\"num\", data=bb);"
   ]
  },
  {
   "cell_type": "code",
   "execution_count": null,
   "id": "1e2c1c99",
   "metadata": {
    "pycharm": {
     "name": "#%%\n"
    }
   },
   "outputs": [],
   "source": [
    "sns.scatterplot(x=\"size\", y=\"num\", data=cc);"
   ]
  },
  {
   "cell_type": "code",
   "execution_count": null,
   "id": "7888511f",
   "metadata": {
    "pycharm": {
     "name": "#%%\n"
    }
   },
   "outputs": [],
   "source": [
    "sns.scatterplot(x=\"size\", y=\"num\", data=dd);"
   ]
  },
  {
   "cell_type": "code",
   "execution_count": null,
   "id": "25f54b55",
   "metadata": {
    "pycharm": {
     "name": "#%%\n"
    }
   },
   "outputs": [],
   "source": [
    "sns.scatterplot(x=\"size\", y=\"num\", data=ee);"
   ]
  },
  {
   "cell_type": "code",
   "execution_count": null,
   "id": "ba5cf1b5",
   "metadata": {
    "pycharm": {
     "name": "#%%\n"
    }
   },
   "outputs": [],
   "source": [
    "sns.scatterplot(x=\"size\", y=\"num\", data=ff);"
   ]
  },
  {
   "cell_type": "markdown",
   "id": "234258ac",
   "metadata": {
    "pycharm": {
     "name": "#%% md\n"
    }
   },
   "source": [
    "Atleast 2 is the number of kmers that are repeated atleast twice in different sequences"
   ]
  },
  {
   "cell_type": "code",
   "execution_count": null,
   "id": "a0c813a2",
   "metadata": {
    "pycharm": {
     "name": "#%%\n"
    }
   },
   "outputs": [],
   "source": [
    "sns.scatterplot(x=\"size\", y=\"atleastTwo\", data=aa);"
   ]
  },
  {
   "cell_type": "code",
   "execution_count": null,
   "id": "ee9ce43e",
   "metadata": {
    "pycharm": {
     "name": "#%%\n"
    },
    "scrolled": true
   },
   "outputs": [],
   "source": [
    "sns.scatterplot(x=\"size\", y=\"atleastTwo\", data=bb);"
   ]
  },
  {
   "cell_type": "code",
   "execution_count": null,
   "id": "d4e2e518",
   "metadata": {
    "pycharm": {
     "name": "#%%\n"
    }
   },
   "outputs": [],
   "source": [
    "sns.scatterplot(x=\"size\", y=\"atleastTwo\", data=cc);"
   ]
  },
  {
   "cell_type": "code",
   "execution_count": null,
   "id": "441824aa",
   "metadata": {
    "pycharm": {
     "name": "#%%\n"
    }
   },
   "outputs": [],
   "source": [
    "sns.scatterplot(x=\"size\", y=\"atleastTwo\", data=dd);"
   ]
  },
  {
   "cell_type": "code",
   "execution_count": null,
   "id": "94073d67",
   "metadata": {
    "pycharm": {
     "name": "#%%\n"
    }
   },
   "outputs": [],
   "source": [
    "sns.scatterplot(x=\"size\", y=\"atleastTwo\", data=ee);"
   ]
  },
  {
   "cell_type": "code",
   "execution_count": null,
   "id": "224bba24",
   "metadata": {
    "pycharm": {
     "name": "#%%\n"
    }
   },
   "outputs": [],
   "source": [
    "sns.scatterplot(x=\"size\", y=\"atleastTwo\", data=ff);"
   ]
  },
  {
   "cell_type": "markdown",
   "id": "9ca5000b",
   "metadata": {
    "pycharm": {
     "name": "#%% md\n"
    }
   },
   "source": [
    "Mean = TotalFreq/totalsize <br>\n",
    "{AA:4,BB:4:CC:1} <br>\n",
    "Mean = (4+4+1)/3"
   ]
  },
  {
   "cell_type": "code",
   "execution_count": null,
   "id": "8c1b8674",
   "metadata": {
    "pycharm": {
     "name": "#%%\n"
    },
    "scrolled": false
   },
   "outputs": [],
   "source": [
    "sns.scatterplot(x=\"size\", y=\"mean\", data=aa);"
   ]
  },
  {
   "cell_type": "code",
   "execution_count": null,
   "id": "0ed995aa",
   "metadata": {
    "pycharm": {
     "name": "#%%\n"
    }
   },
   "outputs": [],
   "source": [
    "sns.scatterplot(x=\"size\", y=\"mean\", data=bb);"
   ]
  },
  {
   "cell_type": "code",
   "execution_count": null,
   "id": "be38ee27",
   "metadata": {
    "pycharm": {
     "name": "#%%\n"
    }
   },
   "outputs": [],
   "source": [
    "sns.scatterplot(x=\"size\", y=\"mean\", data=cc);"
   ]
  },
  {
   "cell_type": "code",
   "execution_count": null,
   "id": "30c82db9",
   "metadata": {
    "pycharm": {
     "name": "#%%\n"
    }
   },
   "outputs": [],
   "source": [
    "sns.scatterplot(x=\"size\", y=\"mean\", data=dd);"
   ]
  },
  {
   "cell_type": "code",
   "execution_count": null,
   "id": "bf53abbe",
   "metadata": {
    "pycharm": {
     "name": "#%%\n"
    }
   },
   "outputs": [],
   "source": [
    "sns.scatterplot(x=\"size\", y=\"mean\", data=ee);"
   ]
  },
  {
   "cell_type": "code",
   "execution_count": null,
   "id": "993d8791",
   "metadata": {
    "pycharm": {
     "name": "#%%\n"
    }
   },
   "outputs": [],
   "source": [
    "sns.scatterplot(x=\"size\", y=\"mean\", data=ff);"
   ]
  },
  {
   "cell_type": "code",
   "execution_count": null,
   "id": "9d92b11e",
   "metadata": {
    "pycharm": {
     "name": "#%%\n"
    }
   },
   "outputs": [],
   "source": [
    "ee"
   ]
  },
  {
   "cell_type": "code",
   "execution_count": null,
   "id": "7cb69d82",
   "metadata": {
    "pycharm": {
     "name": "#%%\n"
    }
   },
   "outputs": [],
   "source": [
    "from Bio.Align import MultipleSeqAlignment\n",
    "# def printmin(k):\n",
    "newlist = k.iloc[0].lister\n",
    "a = min([len(x) for x in newlist])\n",
    "ni = []\n",
    "for n in newlist:\n",
    "    j = n[:a]\n",
    "    ni.append(j)\n",
    "align = MultipleSeqAlignment(ni)\n"
   ]
  },
  {
   "cell_type": "code",
   "execution_count": null,
   "id": "14c94019",
   "metadata": {
    "pycharm": {
     "name": "#%%\n"
    }
   },
   "outputs": [],
   "source": [
    "print(align)"
   ]
  }
 ],
 "metadata": {
  "kernelspec": {
   "display_name": "Python 3 (ipykernel)",
   "language": "python",
   "name": "python3"
  },
  "language_info": {
   "codemirror_mode": {
    "name": "ipython",
    "version": 3
   },
   "file_extension": ".py",
   "mimetype": "text/x-python",
   "name": "python",
   "nbconvert_exporter": "python",
   "pygments_lexer": "ipython3",
   "version": "3.9.12"
  }
 },
 "nbformat": 4,
 "nbformat_minor": 5
}
