{
 "cells": [
  {
   "cell_type": "code",
   "execution_count": 2,
   "id": "f0154095",
   "metadata": {},
   "outputs": [],
   "source": [
    "import pandas as pd\n",
    "import json\n",
    "import numpy as np"
   ]
  },
  {
   "cell_type": "code",
   "execution_count": 6,
   "id": "1a7c9deb",
   "metadata": {},
   "outputs": [],
   "source": [
    "kmer9 = pd.read_csv('kmer9.csv')\n",
    "\n",
    "kmer9 = kmer9.reset_index()\n",
    "\n"
   ]
  },
  {
   "cell_type": "code",
   "execution_count": 4,
   "id": "42d711ed",
   "metadata": {},
   "outputs": [],
   "source": [
    "\n",
    "def kmerCommon(dict1,dict2):\n",
    "    my_dict = [dict1,dict2]\n",
    "\n",
    "    common_keys = set.intersection(*map(set,my_dict))\n",
    "    return len(common_keys)\n",
    "    \n",
    "\n"
   ]
  },
  {
   "cell_type": "code",
   "execution_count": 5,
   "id": "7762bbfb",
   "metadata": {},
   "outputs": [],
   "source": [
    "reader=[]"
   ]
  },
  {
   "cell_type": "code",
   "execution_count": 6,
   "id": "ad6a0306",
   "metadata": {},
   "outputs": [],
   "source": [
    "\n",
    "\n",
    "def globalValue(df):\n",
    "    \n",
    "    sequences = eval(df['kmer9'])\n",
    "    length = len(sequences)\n",
    "    b = np.zeros(shape=(length,length))\n",
    "    name  = str(df.target_gene)\n",
    "    for i in range(0,length):\n",
    "        for j in range(0,length):\n",
    "            if(b[j][i] != 0):\n",
    "                b[i][j] = b[j][i]\n",
    "            else:\n",
    "                b[i][j] = kmerCommon(sequences[i],sequences[j])\n",
    "    reader.append(b)\n",
    "    return b\n",
    "\n"
   ]
  },
  {
   "cell_type": "code",
   "execution_count": 7,
   "id": "4ba4f65a",
   "metadata": {},
   "outputs": [],
   "source": [
    "for i in range(0,len(kmer9)):\n",
    "    globalValue(kmer9.iloc[i])\n",
    "\n"
   ]
  },
  {
   "cell_type": "code",
   "execution_count": 40,
   "id": "96f05384",
   "metadata": {},
   "outputs": [],
   "source": [
    "a = kmer9[kmer9.target_gene =='ENSG00000014138']"
   ]
  },
  {
   "cell_type": "code",
   "execution_count": 41,
   "id": "f5ff5eaf",
   "metadata": {},
   "outputs": [
    {
     "data": {
      "text/html": [
       "<div>\n",
       "<style scoped>\n",
       "    .dataframe tbody tr th:only-of-type {\n",
       "        vertical-align: middle;\n",
       "    }\n",
       "\n",
       "    .dataframe tbody tr th {\n",
       "        vertical-align: top;\n",
       "    }\n",
       "\n",
       "    .dataframe thead th {\n",
       "        text-align: right;\n",
       "    }\n",
       "</style>\n",
       "<table border=\"1\" class=\"dataframe\">\n",
       "  <thead>\n",
       "    <tr style=\"text-align: right;\">\n",
       "      <th></th>\n",
       "      <th>index</th>\n",
       "      <th>Unnamed: 0</th>\n",
       "      <th>target_gene</th>\n",
       "      <th>kmer9</th>\n",
       "      <th>common_keys</th>\n",
       "      <th>common_keys_size</th>\n",
       "      <th>size</th>\n",
       "      <th>max</th>\n",
       "      <th>num</th>\n",
       "      <th>mean</th>\n",
       "      <th>atleastTwo</th>\n",
       "    </tr>\n",
       "  </thead>\n",
       "  <tbody>\n",
       "    <tr>\n",
       "      <th>123</th>\n",
       "      <td>123</td>\n",
       "      <td>130</td>\n",
       "      <td>ENSG00000014138</td>\n",
       "      <td>[{'TGACAGCAA': 1, 'GACAGCAAA': 1, 'ACAGCAAAC':...</td>\n",
       "      <td>set()</td>\n",
       "      <td>0</td>\n",
       "      <td>10</td>\n",
       "      <td>{'GGTTGCAGT': 3, 'CCAGCCTGG': 3, 'CAGCCTGGG': ...</td>\n",
       "      <td>3</td>\n",
       "      <td>1.032717</td>\n",
       "      <td>139</td>\n",
       "    </tr>\n",
       "  </tbody>\n",
       "</table>\n",
       "</div>"
      ],
      "text/plain": [
       "     index  Unnamed: 0      target_gene  \\\n",
       "123    123         130  ENSG00000014138   \n",
       "\n",
       "                                                 kmer9 common_keys  \\\n",
       "123  [{'TGACAGCAA': 1, 'GACAGCAAA': 1, 'ACAGCAAAC':...       set()   \n",
       "\n",
       "     common_keys_size  size  \\\n",
       "123                 0    10   \n",
       "\n",
       "                                                   max  num      mean  \\\n",
       "123  {'GGTTGCAGT': 3, 'CCAGCCTGG': 3, 'CAGCCTGGG': ...    3  1.032717   \n",
       "\n",
       "     atleastTwo  \n",
       "123         139  "
      ]
     },
     "execution_count": 41,
     "metadata": {},
     "output_type": "execute_result"
    }
   ],
   "source": [
    "a"
   ]
  },
  {
   "cell_type": "code",
   "execution_count": 8,
   "id": "c574841a",
   "metadata": {},
   "outputs": [
    {
     "name": "stderr",
     "output_type": "stream",
     "text": [
      "/storage/bin/anaconda3/envs/yudeepenv/lib/python3.9/site-packages/numpy/core/_asarray.py:171: VisibleDeprecationWarning: Creating an ndarray from ragged nested sequences (which is a list-or-tuple of lists-or-tuples-or ndarrays with different lengths or shapes) is deprecated. If you meant to do this, you must specify 'dtype=object' when creating the ndarray.\n",
      "  return array(a, dtype, copy=False, order=order, subok=True)\n"
     ]
    }
   ],
   "source": [
    "np.save('my_dict_kmer9.npy',  reader, allow_pickle=True) "
   ]
  },
  {
   "cell_type": "code",
   "execution_count": 3,
   "id": "b806d3e7",
   "metadata": {},
   "outputs": [],
   "source": [
    "jj = np.load('my_dict_kmer9.npy',allow_pickle=True)"
   ]
  },
  {
   "cell_type": "code",
   "execution_count": 29,
   "id": "47ca15fd",
   "metadata": {},
   "outputs": [
    {
     "data": {
      "text/plain": [
       "array([[218.,   0.,   3., ...,   1.,   1.,   1.],\n",
       "       [  0., 874.,   2., ...,   6.,   4.,   6.],\n",
       "       [  3.,   2., 510., ...,   2.,   8.,   5.],\n",
       "       ...,\n",
       "       [  1.,   6.,   2., ..., 657.,  10.,   0.],\n",
       "       [  1.,   4.,   8., ...,  10., 845.,   0.],\n",
       "       [  1.,   6.,   5., ...,   0.,   0., 284.]])"
      ]
     },
     "execution_count": 29,
     "metadata": {},
     "output_type": "execute_result"
    }
   ],
   "source": [
    "jj[3338]"
   ]
  },
  {
   "cell_type": "code",
   "execution_count": 10,
   "id": "eb75e395",
   "metadata": {},
   "outputs": [
    {
     "data": {
      "text/plain": [
       "array([[222.,   0.,   4., ...,   0.,   0.,   0.],\n",
       "       [  0., 362.,   1., ...,   0.,   4.,   4.],\n",
       "       [  4.,   1., 678., ...,   1.,   2.,   2.],\n",
       "       ...,\n",
       "       [  0.,   0.,   1., ..., 224.,   0.,   0.],\n",
       "       [  0.,   4.,   2., ...,   0., 237., 237.],\n",
       "       [  0.,   4.,   2., ...,   0., 237., 237.]])"
      ]
     },
     "execution_count": 10,
     "metadata": {},
     "output_type": "execute_result"
    }
   ],
   "source": [
    "reader[0]"
   ]
  },
  {
   "cell_type": "code",
   "execution_count": 10,
   "id": "ef32e86c",
   "metadata": {},
   "outputs": [],
   "source": [
    "from scipy.cluster import hierarchy\n",
    "import matplotlib.pyplot as plt"
   ]
  },
  {
   "cell_type": "code",
   "execution_count": 42,
   "id": "b0eac2cc",
   "metadata": {},
   "outputs": [],
   "source": [
    "clusters = hierarchy.linkage(jj[123], method=\"complete\")\n",
    "labelList = range(0, len(jj[123]))\n"
   ]
  },
  {
   "cell_type": "code",
   "execution_count": 36,
   "id": "82240d16",
   "metadata": {},
   "outputs": [],
   "source": [
    "def plot_dendrogram(clusters):\n",
    "    plt.figure(figsize=(20,6))\n",
    "    dendrogram = hierarchy.dendrogram(clusters, labels=labelList, orientation=\"top\",leaf_font_size=9, leaf_rotation=360)\n",
    "    plt.ylabel('Distance');"
   ]
  },
  {
   "cell_type": "code",
   "execution_count": 43,
   "id": "7d2bcb11",
   "metadata": {},
   "outputs": [
    {
     "data": {
      "image/png": "[encoded data removed]",
      "text/plain": [
       "<Figure size 1440x432 with 1 Axes>"
      ]
     },
     "metadata": {
      "needs_background": "light"
     },
     "output_type": "display_data"
    }
   ],
   "source": [
    "plot_dendrogram(clusters)"
   ]
  }
 ],
 "metadata": {
  "kernelspec": {
   "display_name": "Python 3 (ipykernel)",
   "language": "python",
   "name": "python3"
  },
  "language_info": {
   "codemirror_mode": {
    "name": "ipython",
    "version": 3
   },
   "file_extension": ".py",
   "mimetype": "text/x-python",
   "name": "python",
   "nbconvert_exporter": "python",
   "pygments_lexer": "ipython3",
   "version": "3.9.12"
  }
 },
 "nbformat": 4,
 "nbformat_minor": 5
}
