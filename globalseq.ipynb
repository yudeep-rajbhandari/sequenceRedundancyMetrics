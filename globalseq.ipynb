{
 "cells": [
  {
   "cell_type": "code",
   "execution_count": 1,
   "id": "f68d1789",
   "metadata": {},
   "outputs": [],
   "source": [
    "import pandas as pd\n",
    "from Bio import SeqIO\n",
    "import numpy as np\n",
    "\n",
    "df = pd.read_csv('k.csv')\n",
    "\n"
   ]
  },
  {
   "cell_type": "code",
   "execution_count": 2,
   "id": "e62aba8e",
   "metadata": {},
   "outputs": [],
   "source": [
    "def size_getter(km,a):\n",
    "    return len(km[a])\n",
    "\n"
   ]
  },
  {
   "cell_type": "code",
   "execution_count": 3,
   "id": "f5fa7aa8",
   "metadata": {},
   "outputs": [],
   "source": [
    "df_liver = pd.read_csv('liver_enh_to_gene_peakachuloop-linked.tsv', sep='\\t')\n",
    "s = df_liver.groupby('target_gene').size().reset_index()\n",
    "s =s.sort_values(by=[0],ascending=False)\n",
    "\n",
    "record = SeqIO.parse(\"test.fa.out\", \"fasta\")\n",
    "record_dict = SeqIO.to_dict(SeqIO.parse('test.fa.out', 'fasta'))\n",
    "records = list(record)\n",
    "pd_bed = pd.DataFrame.from_records([record_dict])\n",
    "pd_bed  = pd_bed.transpose().reset_index()\n",
    "\n",
    "p = s.merge(df_liver,left_on=['target_gene'],right_on=['target_gene'])\n",
    "p['startEnd'] = p.apply(lambda row: row.enh_chrom +\":\" +str(row.enh_start)+\"-\"+str(row.enh_end), axis=1)\n",
    "p = p.merge(pd_bed,left_on=['startEnd'],right_on=['index'])\n",
    "p= p.rename(columns={'0_y': \"lister\"})\n",
    "p = p[['startEnd', 'lister','target_gene']]\n",
    "k= p.groupby('target_gene')['lister'].agg(list)\n",
    "k = k.reset_index()\n",
    "\n",
    "\n",
    "\n"
   ]
  },
  {
   "cell_type": "code",
   "execution_count": 4,
   "id": "6411c5c2",
   "metadata": {},
   "outputs": [
    {
     "data": {
      "text/html": [
       "<div>\n",
       "<style scoped>\n",
       "    .dataframe tbody tr th:only-of-type {\n",
       "        vertical-align: middle;\n",
       "    }\n",
       "\n",
       "    .dataframe tbody tr th {\n",
       "        vertical-align: top;\n",
       "    }\n",
       "\n",
       "    .dataframe thead th {\n",
       "        text-align: right;\n",
       "    }\n",
       "</style>\n",
       "<table border=\"1\" class=\"dataframe\">\n",
       "  <thead>\n",
       "    <tr style=\"text-align: right;\">\n",
       "      <th></th>\n",
       "      <th>target_gene</th>\n",
       "      <th>lister</th>\n",
       "    </tr>\n",
       "  </thead>\n",
       "  <tbody>\n",
       "    <tr>\n",
       "      <th>0</th>\n",
       "      <td>ENSG00000000460</td>\n",
       "      <td>[(A, G, C, C, A, G, A, G, A, G, G, C, C, T, C,...</td>\n",
       "    </tr>\n",
       "    <tr>\n",
       "      <th>1</th>\n",
       "      <td>ENSG00000000938</td>\n",
       "      <td>[(A, C, T, G, T, C, A, G, T, G, T, T, C, C, T,...</td>\n",
       "    </tr>\n",
       "    <tr>\n",
       "      <th>2</th>\n",
       "      <td>ENSG00000000971</td>\n",
       "      <td>[(G, A, T, T, G, T, A, C, A, T, G, A, A, A, G,...</td>\n",
       "    </tr>\n",
       "    <tr>\n",
       "      <th>3</th>\n",
       "      <td>ENSG00000001084</td>\n",
       "      <td>[(C, A, G, A, G, C, A, T, A, A, G, G, A, T, G,...</td>\n",
       "    </tr>\n",
       "    <tr>\n",
       "      <th>4</th>\n",
       "      <td>ENSG00000001167</td>\n",
       "      <td>[(a, t, g, c, t, t, t, a, t, a, c, a, t, g, t,...</td>\n",
       "    </tr>\n",
       "    <tr>\n",
       "      <th>...</th>\n",
       "      <td>...</td>\n",
       "      <td>...</td>\n",
       "    </tr>\n",
       "    <tr>\n",
       "      <th>7477</th>\n",
       "      <td>ENSG00000272573</td>\n",
       "      <td>[(g, t, g, t, g, a, a, c, a, c, a, a, c, t, c,...</td>\n",
       "    </tr>\n",
       "    <tr>\n",
       "      <th>7478</th>\n",
       "      <td>ENSG00000272617</td>\n",
       "      <td>[(g, t, a, t, t, t, t, t, t, g, t, a, g, a, g,...</td>\n",
       "    </tr>\n",
       "    <tr>\n",
       "      <th>7479</th>\n",
       "      <td>ENSG00000272772</td>\n",
       "      <td>[(G, C, C, A, A, A, C, A, C, C, C, T, T, T, A,...</td>\n",
       "    </tr>\n",
       "    <tr>\n",
       "      <th>7480</th>\n",
       "      <td>ENSG00000272822</td>\n",
       "      <td>[(g, c, c, a, g, t, g, a, g, a, a, a, a, g, a,...</td>\n",
       "    </tr>\n",
       "    <tr>\n",
       "      <th>7481</th>\n",
       "      <td>ENSG00000273079</td>\n",
       "      <td>[(t, t, g, a, a, c, t, g, a, a, g, t, c, t, g,...</td>\n",
       "    </tr>\n",
       "  </tbody>\n",
       "</table>\n",
       "<p>7482 rows × 2 columns</p>\n",
       "</div>"
      ],
      "text/plain": [
       "          target_gene                                             lister\n",
       "0     ENSG00000000460  [(A, G, C, C, A, G, A, G, A, G, G, C, C, T, C,...\n",
       "1     ENSG00000000938  [(A, C, T, G, T, C, A, G, T, G, T, T, C, C, T,...\n",
       "2     ENSG00000000971  [(G, A, T, T, G, T, A, C, A, T, G, A, A, A, G,...\n",
       "3     ENSG00000001084  [(C, A, G, A, G, C, A, T, A, A, G, G, A, T, G,...\n",
       "4     ENSG00000001167  [(a, t, g, c, t, t, t, a, t, a, c, a, t, g, t,...\n",
       "...               ...                                                ...\n",
       "7477  ENSG00000272573  [(g, t, g, t, g, a, a, c, a, c, a, a, c, t, c,...\n",
       "7478  ENSG00000272617  [(g, t, a, t, t, t, t, t, t, g, t, a, g, a, g,...\n",
       "7479  ENSG00000272772  [(G, C, C, A, A, A, C, A, C, C, C, T, T, T, A,...\n",
       "7480  ENSG00000272822  [(g, c, c, a, g, t, g, a, g, a, a, a, a, g, a,...\n",
       "7481  ENSG00000273079  [(t, t, g, a, a, c, t, g, a, a, g, t, c, t, g,...\n",
       "\n",
       "[7482 rows x 2 columns]"
      ]
     },
     "execution_count": 4,
     "metadata": {},
     "output_type": "execute_result"
    }
   ],
   "source": [
    "k"
   ]
  },
  {
   "cell_type": "code",
   "execution_count": 9,
   "id": "f0786806",
   "metadata": {},
   "outputs": [],
   "source": [
    "read = []"
   ]
  },
  {
   "cell_type": "code",
   "execution_count": 32,
   "id": "01d53768",
   "metadata": {},
   "outputs": [],
   "source": [
    "from Bio import pairwise2\n",
    "from Bio.pairwise2 import format_alignment\n",
    "\n",
    "def globalAlign(a,b):\n",
    "    a =  a.seq\n",
    "    b =  b.seq\n",
    "    for k in pairwise2.align.globalms(a, b,2, -1, -.5, -.1):\n",
    "        al1,al2, score, begin, end = k\n",
    "    return score\n",
    "\n",
    "def globalValue(df):\n",
    "#     print(df)\n",
    "    length = len(df.lister)\n",
    "    sequences = df['lister']\n",
    "    b = np.zeros(shape=(length,length))\n",
    "    name  = str(df.target_gene)\n",
    "    for i in range(0,length-1):\n",
    "        for j in range(0,length-1):\n",
    "            if(b[j][i] != 0):\n",
    "                b[i][j] = b[j][i]\n",
    "            else:\n",
    "#                 print(sequences[i],sequences[j])\n",
    "                b[i][j] = globalAlign(sequences[i],sequences[j])\n",
    "    read.append(b)\n",
    "    return b\n",
    "\n"
   ]
  },
  {
   "cell_type": "code",
   "execution_count": 6,
   "id": "6dca7d5d",
   "metadata": {},
   "outputs": [],
   "source": [
    "k['size'] = k.apply(size_getter,args=('lister',),axis=1)"
   ]
  },
  {
   "cell_type": "code",
   "execution_count": 44,
   "id": "8eb91f01",
   "metadata": {},
   "outputs": [],
   "source": [
    "b = k[k['size'] == 10]"
   ]
  },
  {
   "cell_type": "code",
   "execution_count": 35,
   "id": "41516324",
   "metadata": {},
   "outputs": [],
   "source": [
    "b = b[b['size'] > 1]"
   ]
  },
  {
   "cell_type": "code",
   "execution_count": 36,
   "id": "1cb25cce",
   "metadata": {},
   "outputs": [
    {
     "data": {
      "text/plain": [
       "2246"
      ]
     },
     "execution_count": 36,
     "metadata": {},
     "output_type": "execute_result"
    }
   ],
   "source": [
    "len(b)"
   ]
  },
  {
   "cell_type": "code",
   "execution_count": 71,
   "id": "ebdcdaa1",
   "metadata": {},
   "outputs": [],
   "source": [
    "read.clear()"
   ]
  },
  {
   "cell_type": "code",
   "execution_count": 72,
   "id": "13ec177a",
   "metadata": {},
   "outputs": [],
   "source": [
    "for i in range(100):\n",
    "    globalValue(b.iloc[i])"
   ]
  },
  {
   "cell_type": "code",
   "execution_count": 46,
   "id": "9e421506",
   "metadata": {
    "scrolled": true
   },
   "outputs": [
    {
     "data": {
      "text/plain": [
       "target_gene                                      ENSG00000014138\n",
       "lister         [(t, g, a, c, a, g, c, a, a, a, c, c, a, c, a,...\n",
       "size                                                          10\n",
       "Name: 130, dtype: object"
      ]
     },
     "execution_count": 46,
     "metadata": {},
     "output_type": "execute_result"
    }
   ],
   "source": [
    "b.iloc[1]"
   ]
  },
  {
   "cell_type": "code",
   "execution_count": 7,
   "id": "8f7f768c",
   "metadata": {},
   "outputs": [],
   "source": [
    "b = k[k['target_gene'] == 'ENSG00000102904']"
   ]
  },
  {
   "cell_type": "code",
   "execution_count": 30,
   "id": "d9f9ddd6",
   "metadata": {},
   "outputs": [
    {
     "data": {
      "text/html": [
       "<div>\n",
       "<style scoped>\n",
       "    .dataframe tbody tr th:only-of-type {\n",
       "        vertical-align: middle;\n",
       "    }\n",
       "\n",
       "    .dataframe tbody tr th {\n",
       "        vertical-align: top;\n",
       "    }\n",
       "\n",
       "    .dataframe thead th {\n",
       "        text-align: right;\n",
       "    }\n",
       "</style>\n",
       "<table border=\"1\" class=\"dataframe\">\n",
       "  <thead>\n",
       "    <tr style=\"text-align: right;\">\n",
       "      <th></th>\n",
       "      <th>target_gene</th>\n",
       "      <th>lister</th>\n",
       "      <th>size</th>\n",
       "    </tr>\n",
       "  </thead>\n",
       "  <tbody>\n",
       "    <tr>\n",
       "      <th>1124</th>\n",
       "      <td>ENSG00000102904</td>\n",
       "      <td>[(A, T, G, A, G, G, A, C, G, T, G, C, A, G, A,...</td>\n",
       "      <td>268</td>\n",
       "    </tr>\n",
       "  </tbody>\n",
       "</table>\n",
       "</div>"
      ],
      "text/plain": [
       "          target_gene                                             lister  size\n",
       "1124  ENSG00000102904  [(A, T, G, A, G, G, A, C, G, T, G, C, A, G, A,...   268"
      ]
     },
     "execution_count": 30,
     "metadata": {},
     "output_type": "execute_result"
    }
   ],
   "source": [
    "b"
   ]
  },
  {
   "cell_type": "code",
   "execution_count": 47,
   "id": "4daca071",
   "metadata": {
    "scrolled": true
   },
   "outputs": [],
   "source": [
    "globalMatrix = globalValue(b.iloc[1])"
   ]
  },
  {
   "cell_type": "code",
   "execution_count": 33,
   "id": "61422a81",
   "metadata": {},
   "outputs": [
    {
     "ename": "KeyboardInterrupt",
     "evalue": "",
     "output_type": "error",
     "traceback": [
      "\u001b[0;31m---------------------------------------------------------------------------\u001b[0m",
      "\u001b[0;31mKeyboardInterrupt\u001b[0m                         Traceback (most recent call last)",
      "Input \u001b[0;32mIn [33]\u001b[0m, in \u001b[0;36m<cell line: 1>\u001b[0;34m()\u001b[0m\n\u001b[0;32m----> 1\u001b[0m globalMatrix \u001b[38;5;241m=\u001b[39m \u001b[43mglobalValue\u001b[49m\u001b[43m(\u001b[49m\u001b[43mk\u001b[49m\u001b[38;5;241;43m.\u001b[39;49m\u001b[43miloc\u001b[49m\u001b[43m[\u001b[49m\u001b[38;5;241;43m1124\u001b[39;49m\u001b[43m]\u001b[49m\u001b[43m)\u001b[49m\n",
      "Input \u001b[0;32mIn [32]\u001b[0m, in \u001b[0;36mglobalValue\u001b[0;34m(df)\u001b[0m\n\u001b[1;32m     20\u001b[0m                 b[i][j] \u001b[38;5;241m=\u001b[39m b[j][i]\n\u001b[1;32m     21\u001b[0m             \u001b[38;5;28;01melse\u001b[39;00m:\n\u001b[1;32m     22\u001b[0m \u001b[38;5;66;03m#                 print(sequences[i],sequences[j])\u001b[39;00m\n\u001b[0;32m---> 23\u001b[0m                 b[i][j] \u001b[38;5;241m=\u001b[39m \u001b[43mglobalAlign\u001b[49m\u001b[43m(\u001b[49m\u001b[43msequences\u001b[49m\u001b[43m[\u001b[49m\u001b[43mi\u001b[49m\u001b[43m]\u001b[49m\u001b[43m,\u001b[49m\u001b[43msequences\u001b[49m\u001b[43m[\u001b[49m\u001b[43mj\u001b[49m\u001b[43m]\u001b[49m\u001b[43m)\u001b[49m\n\u001b[1;32m     24\u001b[0m     read\u001b[38;5;241m.\u001b[39mappend(b)\n\u001b[1;32m     25\u001b[0m     \u001b[38;5;28;01mreturn\u001b[39;00m b\n",
      "Input \u001b[0;32mIn [32]\u001b[0m, in \u001b[0;36mglobalAlign\u001b[0;34m(a, b)\u001b[0m\n\u001b[1;32m      5\u001b[0m a \u001b[38;5;241m=\u001b[39m  a\u001b[38;5;241m.\u001b[39mseq\n\u001b[1;32m      6\u001b[0m b \u001b[38;5;241m=\u001b[39m  b\u001b[38;5;241m.\u001b[39mseq\n\u001b[0;32m----> 7\u001b[0m \u001b[38;5;28;01mfor\u001b[39;00m k \u001b[38;5;129;01min\u001b[39;00m \u001b[43mpairwise2\u001b[49m\u001b[38;5;241;43m.\u001b[39;49m\u001b[43malign\u001b[49m\u001b[38;5;241;43m.\u001b[39;49m\u001b[43mglobalms\u001b[49m\u001b[43m(\u001b[49m\u001b[43ma\u001b[49m\u001b[43m,\u001b[49m\u001b[43m \u001b[49m\u001b[43mb\u001b[49m\u001b[43m,\u001b[49m\u001b[38;5;241;43m2\u001b[39;49m\u001b[43m,\u001b[49m\u001b[43m \u001b[49m\u001b[38;5;241;43m-\u001b[39;49m\u001b[38;5;241;43m1\u001b[39;49m\u001b[43m,\u001b[49m\u001b[43m \u001b[49m\u001b[38;5;241;43m-\u001b[39;49m\u001b[38;5;241;43m.5\u001b[39;49m\u001b[43m,\u001b[49m\u001b[43m \u001b[49m\u001b[38;5;241;43m-\u001b[39;49m\u001b[38;5;241;43m.1\u001b[39;49m\u001b[43m)\u001b[49m:\n\u001b[1;32m      8\u001b[0m     al1,al2, score, begin, end \u001b[38;5;241m=\u001b[39m k\n\u001b[1;32m      9\u001b[0m \u001b[38;5;28;01mreturn\u001b[39;00m score\n",
      "File \u001b[0;32m/storage/bin/anaconda3/envs/yudeepenv/lib/python3.9/site-packages/Bio/pairwise2.py:493\u001b[0m, in \u001b[0;36malign.alignment_function.__call__\u001b[0;34m(self, *args, **keywds)\u001b[0m\n\u001b[1;32m    491\u001b[0m \u001b[38;5;124;03m\"\"\"Call the alignment instance already created.\"\"\"\u001b[39;00m\n\u001b[1;32m    492\u001b[0m keywds \u001b[38;5;241m=\u001b[39m \u001b[38;5;28mself\u001b[39m\u001b[38;5;241m.\u001b[39mdecode(\u001b[38;5;241m*\u001b[39margs, \u001b[38;5;241m*\u001b[39m\u001b[38;5;241m*\u001b[39mkeywds)\n\u001b[0;32m--> 493\u001b[0m \u001b[38;5;28;01mreturn\u001b[39;00m \u001b[43m_align\u001b[49m\u001b[43m(\u001b[49m\u001b[38;5;241;43m*\u001b[39;49m\u001b[38;5;241;43m*\u001b[39;49m\u001b[43mkeywds\u001b[49m\u001b[43m)\u001b[49m\n",
      "File \u001b[0;32m/storage/bin/anaconda3/envs/yudeepenv/lib/python3.9/site-packages/Bio/pairwise2.py:597\u001b[0m, in \u001b[0;36m_align\u001b[0;34m(sequenceA, sequenceB, match_fn, gap_A_fn, gap_B_fn, penalize_extend_when_opening, penalize_end_gaps, align_globally, gap_char, force_generic, score_only, one_alignment_only)\u001b[0m\n\u001b[1;32m    594\u001b[0m starts \u001b[38;5;241m=\u001b[39m _find_start(score_matrix, best_score, align_globally)\n\u001b[1;32m    596\u001b[0m \u001b[38;5;66;03m# Recover the alignments and return them.\u001b[39;00m\n\u001b[0;32m--> 597\u001b[0m alignments \u001b[38;5;241m=\u001b[39m \u001b[43m_recover_alignments\u001b[49m\u001b[43m(\u001b[49m\n\u001b[1;32m    598\u001b[0m \u001b[43m    \u001b[49m\u001b[43msequenceA\u001b[49m\u001b[43m,\u001b[49m\n\u001b[1;32m    599\u001b[0m \u001b[43m    \u001b[49m\u001b[43msequenceB\u001b[49m\u001b[43m,\u001b[49m\n\u001b[1;32m    600\u001b[0m \u001b[43m    \u001b[49m\u001b[43mstarts\u001b[49m\u001b[43m,\u001b[49m\n\u001b[1;32m    601\u001b[0m \u001b[43m    \u001b[49m\u001b[43mbest_score\u001b[49m\u001b[43m,\u001b[49m\n\u001b[1;32m    602\u001b[0m \u001b[43m    \u001b[49m\u001b[43mscore_matrix\u001b[49m\u001b[43m,\u001b[49m\n\u001b[1;32m    603\u001b[0m \u001b[43m    \u001b[49m\u001b[43mtrace_matrix\u001b[49m\u001b[43m,\u001b[49m\n\u001b[1;32m    604\u001b[0m \u001b[43m    \u001b[49m\u001b[43malign_globally\u001b[49m\u001b[43m,\u001b[49m\n\u001b[1;32m    605\u001b[0m \u001b[43m    \u001b[49m\u001b[43mgap_char\u001b[49m\u001b[43m,\u001b[49m\n\u001b[1;32m    606\u001b[0m \u001b[43m    \u001b[49m\u001b[43mone_alignment_only\u001b[49m\u001b[43m,\u001b[49m\n\u001b[1;32m    607\u001b[0m \u001b[43m    \u001b[49m\u001b[43mgap_A_fn\u001b[49m\u001b[43m,\u001b[49m\n\u001b[1;32m    608\u001b[0m \u001b[43m    \u001b[49m\u001b[43mgap_B_fn\u001b[49m\u001b[43m,\u001b[49m\n\u001b[1;32m    609\u001b[0m \u001b[43m\u001b[49m\u001b[43m)\u001b[49m\n\u001b[1;32m    610\u001b[0m \u001b[38;5;28;01mif\u001b[39;00m \u001b[38;5;129;01mnot\u001b[39;00m alignments:\n\u001b[1;32m    611\u001b[0m     \u001b[38;5;66;03m# This may happen, see recover_alignments for explanation\u001b[39;00m\n\u001b[1;32m    612\u001b[0m     score_matrix, trace_matrix \u001b[38;5;241m=\u001b[39m _reverse_matrices(score_matrix, trace_matrix)\n",
      "File \u001b[0;32m/storage/bin/anaconda3/envs/yudeepenv/lib/python3.9/site-packages/Bio/pairwise2.py:1010\u001b[0m, in \u001b[0;36m_recover_alignments\u001b[0;34m(sequenceA, sequenceB, starts, best_score, score_matrix, trace_matrix, align_globally, gap_char, one_alignment_only, gap_A_fn, gap_B_fn, reverse)\u001b[0m\n\u001b[1;32m   1008\u001b[0m trace \u001b[38;5;241m-\u001b[39m\u001b[38;5;241m=\u001b[39m \u001b[38;5;241m2\u001b[39m\n\u001b[1;32m   1009\u001b[0m row \u001b[38;5;241m-\u001b[39m\u001b[38;5;241m=\u001b[39m \u001b[38;5;241m1\u001b[39m\n\u001b[0;32m-> 1010\u001b[0m col \u001b[38;5;241m-\u001b[39m\u001b[38;5;241m=\u001b[39m \u001b[38;5;241m1\u001b[39m\n\u001b[1;32m   1011\u001b[0m ali_seqA \u001b[38;5;241m+\u001b[39m\u001b[38;5;241m=\u001b[39m sequenceA[row : row \u001b[38;5;241m+\u001b[39m \u001b[38;5;241m1\u001b[39m]\n\u001b[1;32m   1012\u001b[0m ali_seqB \u001b[38;5;241m+\u001b[39m\u001b[38;5;241m=\u001b[39m sequenceB[col : col \u001b[38;5;241m+\u001b[39m \u001b[38;5;241m1\u001b[39m]\n",
      "\u001b[0;31mKeyboardInterrupt\u001b[0m: "
     ]
    }
   ],
   "source": [
    "globalMatrix = globalValue(k.iloc[1124])"
   ]
  },
  {
   "cell_type": "code",
   "execution_count": 48,
   "id": "0caa60bb",
   "metadata": {},
   "outputs": [
    {
     "data": {
      "text/plain": [
       "array([[ 708. ,  248.1,   74.6,  398.6,  189. ,  -72.4,  -66.5,  -65.9,\n",
       "         -61.8,    0. ],\n",
       "       [ 248.1,  722. ,  264.1,  420.7,  223.9,  189.7,  179.4,  193.8,\n",
       "         162.3,    0. ],\n",
       "       [  74.6,  264.1,  472. ,  317.4,  231.6,  239. ,  219.7,  210.9,\n",
       "         204.6,    0. ],\n",
       "       [ 398.6,  420.7,  317.4, 2504. ,  448.8,  424. ,  351.3,  347.7,\n",
       "         290. ,    0. ],\n",
       "       [ 189. ,  223.9,  231.6,  448.8,  620. ,  222.2,  199.9,  206.7,\n",
       "         192.6,    0. ],\n",
       "       [ -72.4,  189.7,  239. ,  424. ,  222.2,  724. ,  344.1,  323.5,\n",
       "         308.6,    0. ],\n",
       "       [ -66.5,  179.4,  219.7,  351.3,  199.9,  344.1,  606. ,  313. ,\n",
       "         284.7,    0. ],\n",
       "       [ -65.9,  193.8,  210.9,  347.7,  206.7,  323.5,  313. ,  594. ,\n",
       "         271.1,    0. ],\n",
       "       [ -61.8,  162.3,  204.6,  290. ,  192.6,  308.6,  284.7,  271.1,\n",
       "         512. ,    0. ],\n",
       "       [   0. ,    0. ,    0. ,    0. ,    0. ,    0. ,    0. ,    0. ,\n",
       "           0. ,    0. ]])"
      ]
     },
     "execution_count": 48,
     "metadata": {},
     "output_type": "execute_result"
    }
   ],
   "source": [
    "globalMatrix"
   ]
  },
  {
   "cell_type": "code",
   "execution_count": null,
   "id": "7a318c01",
   "metadata": {},
   "outputs": [],
   "source": []
  },
  {
   "cell_type": "code",
   "execution_count": 12,
   "id": "75e38030",
   "metadata": {},
   "outputs": [],
   "source": [
    "from scipy.cluster import hierarchy"
   ]
  },
  {
   "cell_type": "code",
   "execution_count": 13,
   "id": "5e519e4d",
   "metadata": {},
   "outputs": [],
   "source": [
    "import matplotlib.pyplot as plt"
   ]
  },
  {
   "cell_type": "code",
   "execution_count": 18,
   "id": "cafeeada",
   "metadata": {},
   "outputs": [
    {
     "data": {
      "text/plain": [
       "array([[0.]])"
      ]
     },
     "execution_count": 18,
     "metadata": {},
     "output_type": "execute_result"
    }
   ],
   "source": [
    "read[0]"
   ]
  },
  {
   "cell_type": "code",
   "execution_count": 49,
   "id": "fd4ac5cf",
   "metadata": {},
   "outputs": [],
   "source": [
    "clusters = hierarchy.linkage(globalMatrix, method=\"complete\")\n",
    "labelList = range(0, len(globalMatrix))\n"
   ]
  },
  {
   "cell_type": "code",
   "execution_count": 40,
   "id": "f0f10995",
   "metadata": {},
   "outputs": [
    {
     "data": {
      "text/plain": [
       "range(0, 10)"
      ]
     },
     "execution_count": 40,
     "metadata": {},
     "output_type": "execute_result"
    }
   ],
   "source": [
    "labelList"
   ]
  },
  {
   "cell_type": "code",
   "execution_count": 40,
   "id": "4e42ee8b",
   "metadata": {},
   "outputs": [],
   "source": [
    "def plot_dendrogram(clusters):\n",
    "    plt.figure(figsize=(20,6))\n",
    "    dendrogram = hierarchy.dendrogram(clusters, labels=labelList, orientation=\"top\",leaf_font_size=9, leaf_rotation=360)\n",
    "    plt.ylabel('Distance');"
   ]
  },
  {
   "cell_type": "code",
   "execution_count": 50,
   "id": "8c6e1500",
   "metadata": {},
   "outputs": [
    {
     "data": {
      "image/png": "[encoded data removed]",
      "text/plain": [
       "<Figure size 1440x432 with 1 Axes>"
      ]
     },
     "metadata": {
      "needs_background": "light"
     },
     "output_type": "display_data"
    }
   ],
   "source": [
    "plot_dendrogram(clusters)"
   ]
  }
 ],
 "metadata": {
  "kernelspec": {
   "display_name": "Python 3 (ipykernel)",
   "language": "python",
   "name": "python3"
  },
  "language_info": {
   "codemirror_mode": {
    "name": "ipython",
    "version": 3
   },
   "file_extension": ".py",
   "mimetype": "text/x-python",
   "name": "python",
   "nbconvert_exporter": "python",
   "pygments_lexer": "ipython3",
   "version": "3.9.12"
  }
 },
 "nbformat": 4,
 "nbformat_minor": 5
}
